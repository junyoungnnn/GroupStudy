{
 "cells": [
  {
   "cell_type": "markdown",
   "id": "7119a7a8-964c-40f7-bab9-383e425809d9",
   "metadata": {},
   "source": [
    "#  1. 데이터프레임 (Pandas)\n",
    "\n",
    "## 데이터프레임의 기본 개념\n",
    "\n",
    "- Pandas는 Python에서 데이터 분석을 위한 라이브러리입니다.\n",
    "\n",
    "- **데이터프레임(DataFrame)** 은 2차원 데이터 구조로, 엑셀 스프레드시트와 유사합니다.\n",
    "\n",
    "    - 행(row)과 열(column)로 구성되며, 각 열은 **시리즈(Series)** 로 표현됩니다.\n",
    "\n",
    "- 왜 사용하는가?\n",
    "\n",
    "    - 대용량 데이터 처리\n",
    "    - 다양한 데이터 조작 기능 제공\n",
    "    - 다른 라이브러리와의 호환성 (예: Matplotlib, seaborn)\n",
    "\n",
    "\n",
    "- 시리즈(Series)와의 차이점\n",
    "    - 시리즈(Series): 1차원 데이터 구조 (열 벡터)\n",
    "    - 데이터프레임(DataFrame): 2차원 데이터 구조 (행과 열)"
   ]
  },
  {
   "cell_type": "markdown",
   "id": "9fe92f0e-d6fa-46bb-b349-dd677c1d9658",
   "metadata": {},
   "source": [
    "## 데이터 프레임 생성"
   ]
  },
  {
   "cell_type": "code",
   "execution_count": 1,
   "id": "95a99e72-1b43-410e-b6a9-87cdc83a81b8",
   "metadata": {},
   "outputs": [],
   "source": [
    "import pandas as pd\n",
    "import numpy as np"
   ]
  },
  {
   "cell_type": "code",
   "execution_count": 2,
   "id": "5ec85b33-38ea-4433-a1b7-066891fd05a5",
   "metadata": {},
   "outputs": [
    {
     "data": {
      "text/html": [
       "<div>\n",
       "<style scoped>\n",
       "    .dataframe tbody tr th:only-of-type {\n",
       "        vertical-align: middle;\n",
       "    }\n",
       "\n",
       "    .dataframe tbody tr th {\n",
       "        vertical-align: top;\n",
       "    }\n",
       "\n",
       "    .dataframe thead th {\n",
       "        text-align: right;\n",
       "    }\n",
       "</style>\n",
       "<table border=\"1\" class=\"dataframe\">\n",
       "  <thead>\n",
       "    <tr style=\"text-align: right;\">\n",
       "      <th></th>\n",
       "      <th>ID</th>\n",
       "      <th>Name</th>\n",
       "      <th>Age</th>\n",
       "      <th>Major</th>\n",
       "      <th>Score</th>\n",
       "    </tr>\n",
       "  </thead>\n",
       "  <tbody>\n",
       "    <tr>\n",
       "      <th>0</th>\n",
       "      <td>a</td>\n",
       "      <td>철수</td>\n",
       "      <td>23</td>\n",
       "      <td>경영학</td>\n",
       "      <td>90</td>\n",
       "    </tr>\n",
       "    <tr>\n",
       "      <th>1</th>\n",
       "      <td>b</td>\n",
       "      <td>민수</td>\n",
       "      <td>36</td>\n",
       "      <td>경영학</td>\n",
       "      <td>80</td>\n",
       "    </tr>\n",
       "    <tr>\n",
       "      <th>2</th>\n",
       "      <td>c</td>\n",
       "      <td>고수</td>\n",
       "      <td>28</td>\n",
       "      <td>사학</td>\n",
       "      <td>70</td>\n",
       "    </tr>\n",
       "    <tr>\n",
       "      <th>3</th>\n",
       "      <td>d</td>\n",
       "      <td>희수</td>\n",
       "      <td>20</td>\n",
       "      <td>사학</td>\n",
       "      <td>60</td>\n",
       "    </tr>\n",
       "  </tbody>\n",
       "</table>\n",
       "</div>"
      ],
      "text/plain": [
       "  ID Name  Age Major  Score\n",
       "0  a   철수   23   경영학     90\n",
       "1  b   민수   36   경영학     80\n",
       "2  c   고수   28    사학     70\n",
       "3  d   희수   20    사학     60"
      ]
     },
     "execution_count": 2,
     "metadata": {},
     "output_type": "execute_result"
    }
   ],
   "source": [
    "# 리스트로 생성\n",
    "data = [['a', '철수', 23, '경영학', 90], ['b', '민수', 36, '경영학', 80], ['c', '고수', 28, '사학', 70], ['d', '희수', 20, '사학', 60]]\n",
    "df = pd.DataFrame(data, columns=['ID', 'Name', 'Age', 'Major', 'Score'])\n",
    "df"
   ]
  },
  {
   "cell_type": "code",
   "execution_count": 3,
   "id": "843c1b38-2917-4bdc-99bf-d8b811e66eb5",
   "metadata": {},
   "outputs": [
    {
     "data": {
      "text/html": [
       "<div>\n",
       "<style scoped>\n",
       "    .dataframe tbody tr th:only-of-type {\n",
       "        vertical-align: middle;\n",
       "    }\n",
       "\n",
       "    .dataframe tbody tr th {\n",
       "        vertical-align: top;\n",
       "    }\n",
       "\n",
       "    .dataframe thead th {\n",
       "        text-align: right;\n",
       "    }\n",
       "</style>\n",
       "<table border=\"1\" class=\"dataframe\">\n",
       "  <thead>\n",
       "    <tr style=\"text-align: right;\">\n",
       "      <th></th>\n",
       "      <th>ID</th>\n",
       "      <th>Name</th>\n",
       "      <th>Age</th>\n",
       "      <th>Major</th>\n",
       "      <th>Score</th>\n",
       "    </tr>\n",
       "  </thead>\n",
       "  <tbody>\n",
       "    <tr>\n",
       "      <th>0</th>\n",
       "      <td>a</td>\n",
       "      <td>철수</td>\n",
       "      <td>23</td>\n",
       "      <td>경영학</td>\n",
       "      <td>90</td>\n",
       "    </tr>\n",
       "    <tr>\n",
       "      <th>1</th>\n",
       "      <td>b</td>\n",
       "      <td>민수</td>\n",
       "      <td>36</td>\n",
       "      <td>경영학</td>\n",
       "      <td>80</td>\n",
       "    </tr>\n",
       "    <tr>\n",
       "      <th>2</th>\n",
       "      <td>c</td>\n",
       "      <td>고수</td>\n",
       "      <td>28</td>\n",
       "      <td>사학</td>\n",
       "      <td>70</td>\n",
       "    </tr>\n",
       "    <tr>\n",
       "      <th>3</th>\n",
       "      <td>d</td>\n",
       "      <td>희수</td>\n",
       "      <td>20</td>\n",
       "      <td>사학</td>\n",
       "      <td>60</td>\n",
       "    </tr>\n",
       "  </tbody>\n",
       "</table>\n",
       "</div>"
      ],
      "text/plain": [
       "  ID Name  Age Major  Score\n",
       "0  a   철수   23   경영학     90\n",
       "1  b   민수   36   경영학     80\n",
       "2  c   고수   28    사학     70\n",
       "3  d   희수   20    사학     60"
      ]
     },
     "execution_count": 3,
     "metadata": {},
     "output_type": "execute_result"
    }
   ],
   "source": [
    "# 딕셔너리로 생성\n",
    "data = {'ID': ['a', 'b', 'c', 'd'], 'Name': ['철수', '민수', '고수', '희수'], 'Age': [23, 36, 28, 20], 'Major':['경영학', '경영학', '사학', '사학'], 'Score': [90, 80, 70, 60]}\n",
    "df = pd.DataFrame(data)\n",
    "df"
   ]
  },
  {
   "cell_type": "code",
   "execution_count": 4,
   "id": "600424b6-2eef-45e4-bdae-69be3f00d6f2",
   "metadata": {},
   "outputs": [
    {
     "data": {
      "text/html": [
       "<div>\n",
       "<style scoped>\n",
       "    .dataframe tbody tr th:only-of-type {\n",
       "        vertical-align: middle;\n",
       "    }\n",
       "\n",
       "    .dataframe tbody tr th {\n",
       "        vertical-align: top;\n",
       "    }\n",
       "\n",
       "    .dataframe thead th {\n",
       "        text-align: right;\n",
       "    }\n",
       "</style>\n",
       "<table border=\"1\" class=\"dataframe\">\n",
       "  <thead>\n",
       "    <tr style=\"text-align: right;\">\n",
       "      <th></th>\n",
       "      <th>ID</th>\n",
       "      <th>Name</th>\n",
       "      <th>Age</th>\n",
       "      <th>Major</th>\n",
       "      <th>Score</th>\n",
       "    </tr>\n",
       "  </thead>\n",
       "  <tbody>\n",
       "    <tr>\n",
       "      <th>0</th>\n",
       "      <td>a</td>\n",
       "      <td>철수</td>\n",
       "      <td>23</td>\n",
       "      <td>경영학</td>\n",
       "      <td>90</td>\n",
       "    </tr>\n",
       "    <tr>\n",
       "      <th>1</th>\n",
       "      <td>b</td>\n",
       "      <td>민수</td>\n",
       "      <td>36</td>\n",
       "      <td>경영학</td>\n",
       "      <td>80</td>\n",
       "    </tr>\n",
       "    <tr>\n",
       "      <th>2</th>\n",
       "      <td>c</td>\n",
       "      <td>고수</td>\n",
       "      <td>28</td>\n",
       "      <td>사학</td>\n",
       "      <td>70</td>\n",
       "    </tr>\n",
       "    <tr>\n",
       "      <th>3</th>\n",
       "      <td>d</td>\n",
       "      <td>희수</td>\n",
       "      <td>20</td>\n",
       "      <td>사학</td>\n",
       "      <td>60</td>\n",
       "    </tr>\n",
       "  </tbody>\n",
       "</table>\n",
       "</div>"
      ],
      "text/plain": [
       "  ID Name Age Major Score\n",
       "0  a   철수  23   경영학    90\n",
       "1  b   민수  36   경영학    80\n",
       "2  c   고수  28    사학    70\n",
       "3  d   희수  20    사학    60"
      ]
     },
     "execution_count": 4,
     "metadata": {},
     "output_type": "execute_result"
    }
   ],
   "source": [
    "# 넘파이 배열로 생성\n",
    "data = np.array([['a', '철수', 23, '경영학', 90], ['b', '민수', 36, '경영학', 80], ['c', '고수', 28, '사학', 70], ['d', '희수', 20, '사학', 60]])\n",
    "df = pd.DataFrame(data, columns=['ID', 'Name', 'Age', 'Major', 'Score'])\n",
    "df"
   ]
  },
  {
   "cell_type": "code",
   "execution_count": 5,
   "id": "d59546e2-7337-4704-b023-12cfcb67f9f9",
   "metadata": {},
   "outputs": [],
   "source": [
    "# csv 파일로 저장\n",
    "df.to_csv('./student.csv')"
   ]
  },
  {
   "cell_type": "code",
   "execution_count": 6,
   "id": "6e9dcdf3-13fb-484f-b43a-be4590e256c8",
   "metadata": {},
   "outputs": [
    {
     "data": {
      "text/html": [
       "<div>\n",
       "<style scoped>\n",
       "    .dataframe tbody tr th:only-of-type {\n",
       "        vertical-align: middle;\n",
       "    }\n",
       "\n",
       "    .dataframe tbody tr th {\n",
       "        vertical-align: top;\n",
       "    }\n",
       "\n",
       "    .dataframe thead th {\n",
       "        text-align: right;\n",
       "    }\n",
       "</style>\n",
       "<table border=\"1\" class=\"dataframe\">\n",
       "  <thead>\n",
       "    <tr style=\"text-align: right;\">\n",
       "      <th></th>\n",
       "      <th>Unnamed: 0</th>\n",
       "      <th>ID</th>\n",
       "      <th>Name</th>\n",
       "      <th>Age</th>\n",
       "      <th>Major</th>\n",
       "      <th>Score</th>\n",
       "    </tr>\n",
       "  </thead>\n",
       "  <tbody>\n",
       "    <tr>\n",
       "      <th>0</th>\n",
       "      <td>0</td>\n",
       "      <td>a</td>\n",
       "      <td>철수</td>\n",
       "      <td>23</td>\n",
       "      <td>경영학</td>\n",
       "      <td>90</td>\n",
       "    </tr>\n",
       "    <tr>\n",
       "      <th>1</th>\n",
       "      <td>1</td>\n",
       "      <td>b</td>\n",
       "      <td>민수</td>\n",
       "      <td>36</td>\n",
       "      <td>경영학</td>\n",
       "      <td>80</td>\n",
       "    </tr>\n",
       "    <tr>\n",
       "      <th>2</th>\n",
       "      <td>2</td>\n",
       "      <td>c</td>\n",
       "      <td>고수</td>\n",
       "      <td>28</td>\n",
       "      <td>사학</td>\n",
       "      <td>70</td>\n",
       "    </tr>\n",
       "    <tr>\n",
       "      <th>3</th>\n",
       "      <td>3</td>\n",
       "      <td>d</td>\n",
       "      <td>희수</td>\n",
       "      <td>20</td>\n",
       "      <td>사학</td>\n",
       "      <td>60</td>\n",
       "    </tr>\n",
       "  </tbody>\n",
       "</table>\n",
       "</div>"
      ],
      "text/plain": [
       "   Unnamed: 0 ID Name  Age Major  Score\n",
       "0           0  a   철수   23   경영학     90\n",
       "1           1  b   민수   36   경영학     80\n",
       "2           2  c   고수   28    사학     70\n",
       "3           3  d   희수   20    사학     60"
      ]
     },
     "execution_count": 6,
     "metadata": {},
     "output_type": "execute_result"
    }
   ],
   "source": [
    "student = pd.read_csv('./student.csv')\n",
    "student"
   ]
  },
  {
   "cell_type": "code",
   "execution_count": 7,
   "id": "01d12869-b721-4c18-8a94-9e25e5303ccf",
   "metadata": {},
   "outputs": [],
   "source": [
    "# csv 파일로 저장\n",
    "df.to_csv('./student.csv', index=False, encoding='utf-8-sig')"
   ]
  },
  {
   "cell_type": "code",
   "execution_count": 8,
   "id": "e15998bd-9749-43e1-a487-c4a107dc2034",
   "metadata": {},
   "outputs": [
    {
     "data": {
      "text/html": [
       "<div>\n",
       "<style scoped>\n",
       "    .dataframe tbody tr th:only-of-type {\n",
       "        vertical-align: middle;\n",
       "    }\n",
       "\n",
       "    .dataframe tbody tr th {\n",
       "        vertical-align: top;\n",
       "    }\n",
       "\n",
       "    .dataframe thead th {\n",
       "        text-align: right;\n",
       "    }\n",
       "</style>\n",
       "<table border=\"1\" class=\"dataframe\">\n",
       "  <thead>\n",
       "    <tr style=\"text-align: right;\">\n",
       "      <th></th>\n",
       "      <th>ID</th>\n",
       "      <th>Name</th>\n",
       "      <th>Age</th>\n",
       "      <th>Major</th>\n",
       "      <th>Score</th>\n",
       "    </tr>\n",
       "  </thead>\n",
       "  <tbody>\n",
       "    <tr>\n",
       "      <th>0</th>\n",
       "      <td>a</td>\n",
       "      <td>철수</td>\n",
       "      <td>23</td>\n",
       "      <td>경영학</td>\n",
       "      <td>90</td>\n",
       "    </tr>\n",
       "    <tr>\n",
       "      <th>1</th>\n",
       "      <td>b</td>\n",
       "      <td>민수</td>\n",
       "      <td>36</td>\n",
       "      <td>경영학</td>\n",
       "      <td>80</td>\n",
       "    </tr>\n",
       "    <tr>\n",
       "      <th>2</th>\n",
       "      <td>c</td>\n",
       "      <td>고수</td>\n",
       "      <td>28</td>\n",
       "      <td>사학</td>\n",
       "      <td>70</td>\n",
       "    </tr>\n",
       "    <tr>\n",
       "      <th>3</th>\n",
       "      <td>d</td>\n",
       "      <td>희수</td>\n",
       "      <td>20</td>\n",
       "      <td>사학</td>\n",
       "      <td>60</td>\n",
       "    </tr>\n",
       "  </tbody>\n",
       "</table>\n",
       "</div>"
      ],
      "text/plain": [
       "  ID Name  Age Major  Score\n",
       "0  a   철수   23   경영학     90\n",
       "1  b   민수   36   경영학     80\n",
       "2  c   고수   28    사학     70\n",
       "3  d   희수   20    사학     60"
      ]
     },
     "execution_count": 8,
     "metadata": {},
     "output_type": "execute_result"
    }
   ],
   "source": [
    "student = pd.read_csv('./student.csv')\n",
    "student"
   ]
  },
  {
   "cell_type": "code",
   "execution_count": 9,
   "id": "4d95f1c5-060c-48ae-90a2-d7544aa5e0c9",
   "metadata": {},
   "outputs": [
    {
     "data": {
      "text/html": [
       "<div>\n",
       "<style scoped>\n",
       "    .dataframe tbody tr th:only-of-type {\n",
       "        vertical-align: middle;\n",
       "    }\n",
       "\n",
       "    .dataframe tbody tr th {\n",
       "        vertical-align: top;\n",
       "    }\n",
       "\n",
       "    .dataframe thead th {\n",
       "        text-align: right;\n",
       "    }\n",
       "</style>\n",
       "<table border=\"1\" class=\"dataframe\">\n",
       "  <thead>\n",
       "    <tr style=\"text-align: right;\">\n",
       "      <th></th>\n",
       "      <th>Name</th>\n",
       "      <th>Age</th>\n",
       "      <th>Major</th>\n",
       "      <th>Score</th>\n",
       "    </tr>\n",
       "    <tr>\n",
       "      <th>ID</th>\n",
       "      <th></th>\n",
       "      <th></th>\n",
       "      <th></th>\n",
       "      <th></th>\n",
       "    </tr>\n",
       "  </thead>\n",
       "  <tbody>\n",
       "    <tr>\n",
       "      <th>a</th>\n",
       "      <td>철수</td>\n",
       "      <td>23</td>\n",
       "      <td>경영학</td>\n",
       "      <td>90</td>\n",
       "    </tr>\n",
       "    <tr>\n",
       "      <th>b</th>\n",
       "      <td>민수</td>\n",
       "      <td>36</td>\n",
       "      <td>경영학</td>\n",
       "      <td>80</td>\n",
       "    </tr>\n",
       "    <tr>\n",
       "      <th>c</th>\n",
       "      <td>고수</td>\n",
       "      <td>28</td>\n",
       "      <td>사학</td>\n",
       "      <td>70</td>\n",
       "    </tr>\n",
       "    <tr>\n",
       "      <th>d</th>\n",
       "      <td>희수</td>\n",
       "      <td>20</td>\n",
       "      <td>사학</td>\n",
       "      <td>60</td>\n",
       "    </tr>\n",
       "  </tbody>\n",
       "</table>\n",
       "</div>"
      ],
      "text/plain": [
       "   Name  Age Major  Score\n",
       "ID                       \n",
       "a    철수   23   경영학     90\n",
       "b    민수   36   경영학     80\n",
       "c    고수   28    사학     70\n",
       "d    희수   20    사학     60"
      ]
     },
     "execution_count": 9,
     "metadata": {},
     "output_type": "execute_result"
    }
   ],
   "source": [
    "student = student.set_index('ID')\n",
    "student"
   ]
  },
  {
   "cell_type": "code",
   "execution_count": 10,
   "id": "5bd09171-bcc6-4ec0-a68d-7ffc3310287f",
   "metadata": {},
   "outputs": [],
   "source": [
    "student.index.name = None"
   ]
  },
  {
   "cell_type": "code",
   "execution_count": 11,
   "id": "a93d7267-54de-44f6-b006-77356911d22b",
   "metadata": {},
   "outputs": [
    {
     "data": {
      "text/html": [
       "<div>\n",
       "<style scoped>\n",
       "    .dataframe tbody tr th:only-of-type {\n",
       "        vertical-align: middle;\n",
       "    }\n",
       "\n",
       "    .dataframe tbody tr th {\n",
       "        vertical-align: top;\n",
       "    }\n",
       "\n",
       "    .dataframe thead th {\n",
       "        text-align: right;\n",
       "    }\n",
       "</style>\n",
       "<table border=\"1\" class=\"dataframe\">\n",
       "  <thead>\n",
       "    <tr style=\"text-align: right;\">\n",
       "      <th></th>\n",
       "      <th>Name</th>\n",
       "      <th>Age</th>\n",
       "      <th>Major</th>\n",
       "      <th>Score</th>\n",
       "    </tr>\n",
       "  </thead>\n",
       "  <tbody>\n",
       "    <tr>\n",
       "      <th>a</th>\n",
       "      <td>철수</td>\n",
       "      <td>23</td>\n",
       "      <td>경영학</td>\n",
       "      <td>90</td>\n",
       "    </tr>\n",
       "    <tr>\n",
       "      <th>b</th>\n",
       "      <td>민수</td>\n",
       "      <td>36</td>\n",
       "      <td>경영학</td>\n",
       "      <td>80</td>\n",
       "    </tr>\n",
       "    <tr>\n",
       "      <th>c</th>\n",
       "      <td>고수</td>\n",
       "      <td>28</td>\n",
       "      <td>사학</td>\n",
       "      <td>70</td>\n",
       "    </tr>\n",
       "    <tr>\n",
       "      <th>d</th>\n",
       "      <td>희수</td>\n",
       "      <td>20</td>\n",
       "      <td>사학</td>\n",
       "      <td>60</td>\n",
       "    </tr>\n",
       "  </tbody>\n",
       "</table>\n",
       "</div>"
      ],
      "text/plain": [
       "  Name  Age Major  Score\n",
       "a   철수   23   경영학     90\n",
       "b   민수   36   경영학     80\n",
       "c   고수   28    사학     70\n",
       "d   희수   20    사학     60"
      ]
     },
     "execution_count": 11,
     "metadata": {},
     "output_type": "execute_result"
    }
   ],
   "source": [
    "student"
   ]
  },
  {
   "cell_type": "code",
   "execution_count": 12,
   "id": "e85092b7-88fc-4276-81f4-c0b71026e02a",
   "metadata": {},
   "outputs": [
    {
     "data": {
      "text/html": [
       "<div>\n",
       "<style scoped>\n",
       "    .dataframe tbody tr th:only-of-type {\n",
       "        vertical-align: middle;\n",
       "    }\n",
       "\n",
       "    .dataframe tbody tr th {\n",
       "        vertical-align: top;\n",
       "    }\n",
       "\n",
       "    .dataframe thead th {\n",
       "        text-align: right;\n",
       "    }\n",
       "</style>\n",
       "<table border=\"1\" class=\"dataframe\">\n",
       "  <thead>\n",
       "    <tr style=\"text-align: right;\">\n",
       "      <th></th>\n",
       "      <th>index</th>\n",
       "      <th>Name</th>\n",
       "      <th>Age</th>\n",
       "      <th>Major</th>\n",
       "      <th>Score</th>\n",
       "    </tr>\n",
       "  </thead>\n",
       "  <tbody>\n",
       "    <tr>\n",
       "      <th>0</th>\n",
       "      <td>a</td>\n",
       "      <td>철수</td>\n",
       "      <td>23</td>\n",
       "      <td>경영학</td>\n",
       "      <td>90</td>\n",
       "    </tr>\n",
       "    <tr>\n",
       "      <th>1</th>\n",
       "      <td>b</td>\n",
       "      <td>민수</td>\n",
       "      <td>36</td>\n",
       "      <td>경영학</td>\n",
       "      <td>80</td>\n",
       "    </tr>\n",
       "    <tr>\n",
       "      <th>2</th>\n",
       "      <td>c</td>\n",
       "      <td>고수</td>\n",
       "      <td>28</td>\n",
       "      <td>사학</td>\n",
       "      <td>70</td>\n",
       "    </tr>\n",
       "    <tr>\n",
       "      <th>3</th>\n",
       "      <td>d</td>\n",
       "      <td>희수</td>\n",
       "      <td>20</td>\n",
       "      <td>사학</td>\n",
       "      <td>60</td>\n",
       "    </tr>\n",
       "  </tbody>\n",
       "</table>\n",
       "</div>"
      ],
      "text/plain": [
       "  index Name  Age Major  Score\n",
       "0     a   철수   23   경영학     90\n",
       "1     b   민수   36   경영학     80\n",
       "2     c   고수   28    사학     70\n",
       "3     d   희수   20    사학     60"
      ]
     },
     "execution_count": 12,
     "metadata": {},
     "output_type": "execute_result"
    }
   ],
   "source": [
    "student = student.reset_index()\n",
    "student"
   ]
  },
  {
   "cell_type": "code",
   "execution_count": 13,
   "id": "e6f7ea69-3962-4660-9df5-8c66578cafd8",
   "metadata": {},
   "outputs": [
    {
     "data": {
      "text/html": [
       "<div>\n",
       "<style scoped>\n",
       "    .dataframe tbody tr th:only-of-type {\n",
       "        vertical-align: middle;\n",
       "    }\n",
       "\n",
       "    .dataframe tbody tr th {\n",
       "        vertical-align: top;\n",
       "    }\n",
       "\n",
       "    .dataframe thead th {\n",
       "        text-align: right;\n",
       "    }\n",
       "</style>\n",
       "<table border=\"1\" class=\"dataframe\">\n",
       "  <thead>\n",
       "    <tr style=\"text-align: right;\">\n",
       "      <th></th>\n",
       "      <th>id</th>\n",
       "      <th>Name</th>\n",
       "      <th>Age</th>\n",
       "      <th>Major</th>\n",
       "      <th>Score</th>\n",
       "    </tr>\n",
       "  </thead>\n",
       "  <tbody>\n",
       "    <tr>\n",
       "      <th>0</th>\n",
       "      <td>a</td>\n",
       "      <td>철수</td>\n",
       "      <td>23</td>\n",
       "      <td>경영학</td>\n",
       "      <td>90</td>\n",
       "    </tr>\n",
       "    <tr>\n",
       "      <th>1</th>\n",
       "      <td>b</td>\n",
       "      <td>민수</td>\n",
       "      <td>36</td>\n",
       "      <td>경영학</td>\n",
       "      <td>80</td>\n",
       "    </tr>\n",
       "    <tr>\n",
       "      <th>2</th>\n",
       "      <td>c</td>\n",
       "      <td>고수</td>\n",
       "      <td>28</td>\n",
       "      <td>사학</td>\n",
       "      <td>70</td>\n",
       "    </tr>\n",
       "    <tr>\n",
       "      <th>3</th>\n",
       "      <td>d</td>\n",
       "      <td>희수</td>\n",
       "      <td>20</td>\n",
       "      <td>사학</td>\n",
       "      <td>60</td>\n",
       "    </tr>\n",
       "  </tbody>\n",
       "</table>\n",
       "</div>"
      ],
      "text/plain": [
       "  id Name  Age Major  Score\n",
       "0  a   철수   23   경영학     90\n",
       "1  b   민수   36   경영학     80\n",
       "2  c   고수   28    사학     70\n",
       "3  d   희수   20    사학     60"
      ]
     },
     "execution_count": 13,
     "metadata": {},
     "output_type": "execute_result"
    }
   ],
   "source": [
    "student = student.rename(columns={'index':'id'})\n",
    "student"
   ]
  },
  {
   "cell_type": "code",
   "execution_count": 14,
   "id": "6fcc1a69-3a02-4981-ae48-477033a09610",
   "metadata": {},
   "outputs": [
    {
     "data": {
      "text/html": [
       "<div>\n",
       "<style scoped>\n",
       "    .dataframe tbody tr th:only-of-type {\n",
       "        vertical-align: middle;\n",
       "    }\n",
       "\n",
       "    .dataframe tbody tr th {\n",
       "        vertical-align: top;\n",
       "    }\n",
       "\n",
       "    .dataframe thead th {\n",
       "        text-align: right;\n",
       "    }\n",
       "</style>\n",
       "<table border=\"1\" class=\"dataframe\">\n",
       "  <thead>\n",
       "    <tr style=\"text-align: right;\">\n",
       "      <th></th>\n",
       "      <th>Name</th>\n",
       "      <th>Age</th>\n",
       "      <th>Major</th>\n",
       "      <th>Score</th>\n",
       "    </tr>\n",
       "  </thead>\n",
       "  <tbody>\n",
       "    <tr>\n",
       "      <th>a</th>\n",
       "      <td>철수</td>\n",
       "      <td>23</td>\n",
       "      <td>경영학</td>\n",
       "      <td>90</td>\n",
       "    </tr>\n",
       "    <tr>\n",
       "      <th>b</th>\n",
       "      <td>민수</td>\n",
       "      <td>36</td>\n",
       "      <td>경영학</td>\n",
       "      <td>80</td>\n",
       "    </tr>\n",
       "    <tr>\n",
       "      <th>c</th>\n",
       "      <td>고수</td>\n",
       "      <td>28</td>\n",
       "      <td>사학</td>\n",
       "      <td>70</td>\n",
       "    </tr>\n",
       "    <tr>\n",
       "      <th>d</th>\n",
       "      <td>희수</td>\n",
       "      <td>20</td>\n",
       "      <td>사학</td>\n",
       "      <td>60</td>\n",
       "    </tr>\n",
       "  </tbody>\n",
       "</table>\n",
       "</div>"
      ],
      "text/plain": [
       "  Name  Age Major  Score\n",
       "a   철수   23   경영학     90\n",
       "b   민수   36   경영학     80\n",
       "c   고수   28    사학     70\n",
       "d   희수   20    사학     60"
      ]
     },
     "execution_count": 14,
     "metadata": {},
     "output_type": "execute_result"
    }
   ],
   "source": [
    "student = student.set_index('id')\n",
    "student.index.name = None\n",
    "student"
   ]
  },
  {
   "cell_type": "markdown",
   "id": "2c8233d4-fb70-411e-8742-ede0ba3aa6ed",
   "metadata": {},
   "source": [
    "loc은 데이터프레임의 행과 열의 **라벨(label)** 을 기반으로 데이터를 선택합니다.\n",
    "\n",
    "- 행과 열의 인덱스 라벨을 사용합니다.\n",
    "\n",
    "- 슬라이싱 시 종료 라벨을 포함합니다."
   ]
  },
  {
   "cell_type": "code",
   "execution_count": 15,
   "id": "3012d50e-5451-4555-a470-c7329ab2fd0f",
   "metadata": {},
   "outputs": [
    {
     "data": {
      "text/plain": [
       "'철수'"
      ]
     },
     "execution_count": 15,
     "metadata": {},
     "output_type": "execute_result"
    }
   ],
   "source": [
    "# 특정 행과 열 선택\n",
    "student.loc['a', 'Name']"
   ]
  },
  {
   "cell_type": "code",
   "execution_count": 16,
   "id": "6345f856-f98c-46c5-923c-7b41c7734568",
   "metadata": {},
   "outputs": [
    {
     "data": {
      "text/html": [
       "<div>\n",
       "<style scoped>\n",
       "    .dataframe tbody tr th:only-of-type {\n",
       "        vertical-align: middle;\n",
       "    }\n",
       "\n",
       "    .dataframe tbody tr th {\n",
       "        vertical-align: top;\n",
       "    }\n",
       "\n",
       "    .dataframe thead th {\n",
       "        text-align: right;\n",
       "    }\n",
       "</style>\n",
       "<table border=\"1\" class=\"dataframe\">\n",
       "  <thead>\n",
       "    <tr style=\"text-align: right;\">\n",
       "      <th></th>\n",
       "      <th>Name</th>\n",
       "      <th>Age</th>\n",
       "    </tr>\n",
       "  </thead>\n",
       "  <tbody>\n",
       "    <tr>\n",
       "      <th>a</th>\n",
       "      <td>철수</td>\n",
       "      <td>23</td>\n",
       "    </tr>\n",
       "    <tr>\n",
       "      <th>b</th>\n",
       "      <td>민수</td>\n",
       "      <td>36</td>\n",
       "    </tr>\n",
       "    <tr>\n",
       "      <th>c</th>\n",
       "      <td>고수</td>\n",
       "      <td>28</td>\n",
       "    </tr>\n",
       "  </tbody>\n",
       "</table>\n",
       "</div>"
      ],
      "text/plain": [
       "  Name  Age\n",
       "a   철수   23\n",
       "b   민수   36\n",
       "c   고수   28"
      ]
     },
     "execution_count": 16,
     "metadata": {},
     "output_type": "execute_result"
    }
   ],
   "source": [
    "# 여러 행과 열 선택\n",
    "student.loc['a':'c', ['Name', 'Age']]"
   ]
  },
  {
   "cell_type": "code",
   "execution_count": 17,
   "id": "70a1b10c-9ec1-404d-b908-6e289fbe1c7c",
   "metadata": {},
   "outputs": [
    {
     "data": {
      "text/html": [
       "<div>\n",
       "<style scoped>\n",
       "    .dataframe tbody tr th:only-of-type {\n",
       "        vertical-align: middle;\n",
       "    }\n",
       "\n",
       "    .dataframe tbody tr th {\n",
       "        vertical-align: top;\n",
       "    }\n",
       "\n",
       "    .dataframe thead th {\n",
       "        text-align: right;\n",
       "    }\n",
       "</style>\n",
       "<table border=\"1\" class=\"dataframe\">\n",
       "  <thead>\n",
       "    <tr style=\"text-align: right;\">\n",
       "      <th></th>\n",
       "      <th>Name</th>\n",
       "      <th>Age</th>\n",
       "      <th>Major</th>\n",
       "      <th>Score</th>\n",
       "    </tr>\n",
       "  </thead>\n",
       "  <tbody>\n",
       "    <tr>\n",
       "      <th>b</th>\n",
       "      <td>민수</td>\n",
       "      <td>36</td>\n",
       "      <td>경영학</td>\n",
       "      <td>80</td>\n",
       "    </tr>\n",
       "  </tbody>\n",
       "</table>\n",
       "</div>"
      ],
      "text/plain": [
       "  Name  Age Major  Score\n",
       "b   민수   36   경영학     80"
      ]
     },
     "execution_count": 17,
     "metadata": {},
     "output_type": "execute_result"
    }
   ],
   "source": [
    "student.loc[student['Age']>30, : ]"
   ]
  },
  {
   "cell_type": "markdown",
   "id": "93a453da-f4a3-47b6-a3d3-ed751e8e9fbe",
   "metadata": {},
   "source": [
    "iloc은 행과 열의 **정수 위치(integer position)** 를 기반으로 데이터를 선택합니다.\n",
    "    \n",
    "- 행과 열의 정수 인덱스를 사용합니다 (0부터 시작).\n",
    "                     \n",
    "- 슬라이싱 시 종료 인덱스를 포함하지 않습니다."
   ]
  },
  {
   "cell_type": "code",
   "execution_count": 18,
   "id": "92ed910b-1501-484f-a2cc-d237f19bef9e",
   "metadata": {},
   "outputs": [
    {
     "data": {
      "text/plain": [
       "'철수'"
      ]
     },
     "execution_count": 18,
     "metadata": {},
     "output_type": "execute_result"
    }
   ],
   "source": [
    "# 첫 번째 행의 첫 번째 열 선택\n",
    "student.iloc[0, 0]"
   ]
  },
  {
   "cell_type": "code",
   "execution_count": 19,
   "id": "c5746b01-680c-451a-8431-d3763f57d67a",
   "metadata": {},
   "outputs": [
    {
     "data": {
      "text/html": [
       "<div>\n",
       "<style scoped>\n",
       "    .dataframe tbody tr th:only-of-type {\n",
       "        vertical-align: middle;\n",
       "    }\n",
       "\n",
       "    .dataframe tbody tr th {\n",
       "        vertical-align: top;\n",
       "    }\n",
       "\n",
       "    .dataframe thead th {\n",
       "        text-align: right;\n",
       "    }\n",
       "</style>\n",
       "<table border=\"1\" class=\"dataframe\">\n",
       "  <thead>\n",
       "    <tr style=\"text-align: right;\">\n",
       "      <th></th>\n",
       "      <th>Name</th>\n",
       "    </tr>\n",
       "  </thead>\n",
       "  <tbody>\n",
       "    <tr>\n",
       "      <th>a</th>\n",
       "      <td>철수</td>\n",
       "    </tr>\n",
       "    <tr>\n",
       "      <th>b</th>\n",
       "      <td>민수</td>\n",
       "    </tr>\n",
       "  </tbody>\n",
       "</table>\n",
       "</div>"
      ],
      "text/plain": [
       "  Name\n",
       "a   철수\n",
       "b   민수"
      ]
     },
     "execution_count": 19,
     "metadata": {},
     "output_type": "execute_result"
    }
   ],
   "source": [
    "# 첫 번째와 두 번째 행, 첫 번째와 두 번째 열 선택\n",
    "student.iloc[0:2, 0:1]"
   ]
  },
  {
   "cell_type": "code",
   "execution_count": 20,
   "id": "73fc9c78-bcc6-43ad-84d1-900b01097c71",
   "metadata": {},
   "outputs": [
    {
     "data": {
      "text/html": [
       "<div>\n",
       "<style scoped>\n",
       "    .dataframe tbody tr th:only-of-type {\n",
       "        vertical-align: middle;\n",
       "    }\n",
       "\n",
       "    .dataframe tbody tr th {\n",
       "        vertical-align: top;\n",
       "    }\n",
       "\n",
       "    .dataframe thead th {\n",
       "        text-align: right;\n",
       "    }\n",
       "</style>\n",
       "<table border=\"1\" class=\"dataframe\">\n",
       "  <thead>\n",
       "    <tr style=\"text-align: right;\">\n",
       "      <th></th>\n",
       "      <th>Major</th>\n",
       "      <th>Name</th>\n",
       "      <th>Age</th>\n",
       "      <th>Score</th>\n",
       "    </tr>\n",
       "  </thead>\n",
       "  <tbody>\n",
       "    <tr>\n",
       "      <th>0</th>\n",
       "      <td>경영학</td>\n",
       "      <td>철수민수</td>\n",
       "      <td>59</td>\n",
       "      <td>170</td>\n",
       "    </tr>\n",
       "    <tr>\n",
       "      <th>1</th>\n",
       "      <td>사학</td>\n",
       "      <td>고수희수</td>\n",
       "      <td>48</td>\n",
       "      <td>130</td>\n",
       "    </tr>\n",
       "  </tbody>\n",
       "</table>\n",
       "</div>"
      ],
      "text/plain": [
       "  Major  Name  Age  Score\n",
       "0   경영학  철수민수   59    170\n",
       "1    사학  고수희수   48    130"
      ]
     },
     "execution_count": 20,
     "metadata": {},
     "output_type": "execute_result"
    }
   ],
   "source": [
    "student_sum = student.groupby('Major', as_index=False).sum()\n",
    "student_sum"
   ]
  },
  {
   "cell_type": "code",
   "execution_count": 21,
   "id": "3855a1d5-9512-4445-ac1d-08f81a8cc350",
   "metadata": {},
   "outputs": [
    {
     "data": {
      "text/html": [
       "<div>\n",
       "<style scoped>\n",
       "    .dataframe tbody tr th:only-of-type {\n",
       "        vertical-align: middle;\n",
       "    }\n",
       "\n",
       "    .dataframe tbody tr th {\n",
       "        vertical-align: top;\n",
       "    }\n",
       "\n",
       "    .dataframe thead th {\n",
       "        text-align: right;\n",
       "    }\n",
       "</style>\n",
       "<table border=\"1\" class=\"dataframe\">\n",
       "  <thead>\n",
       "    <tr style=\"text-align: right;\">\n",
       "      <th></th>\n",
       "      <th>Major</th>\n",
       "      <th>Age</th>\n",
       "      <th>Score</th>\n",
       "    </tr>\n",
       "  </thead>\n",
       "  <tbody>\n",
       "    <tr>\n",
       "      <th>0</th>\n",
       "      <td>경영학</td>\n",
       "      <td>29.5</td>\n",
       "      <td>85.0</td>\n",
       "    </tr>\n",
       "    <tr>\n",
       "      <th>1</th>\n",
       "      <td>사학</td>\n",
       "      <td>24.0</td>\n",
       "      <td>65.0</td>\n",
       "    </tr>\n",
       "  </tbody>\n",
       "</table>\n",
       "</div>"
      ],
      "text/plain": [
       "  Major   Age  Score\n",
       "0   경영학  29.5   85.0\n",
       "1    사학  24.0   65.0"
      ]
     },
     "execution_count": 21,
     "metadata": {},
     "output_type": "execute_result"
    }
   ],
   "source": [
    "student_mean = student.groupby('Major', as_index=False).mean(numeric_only=True)\n",
    "student_mean"
   ]
  },
  {
   "cell_type": "markdown",
   "id": "f3daac73-7430-4e7a-aa5b-e41f740b2f47",
   "metadata": {},
   "source": [
    "## agg() 메서드로 다양한 집계"
   ]
  },
  {
   "cell_type": "markdown",
   "id": "69716c76-0041-4791-926d-620c15389fef",
   "metadata": {},
   "source": [
    "- 열 하나에 대해 합계, 평균 등의 집계를 한 번에 수행 가능\n",
    "- agg() 메서드에 원하는 집계 방법을 리스트 형태로 지정"
   ]
  },
  {
   "cell_type": "code",
   "execution_count": 22,
   "id": "fcd91d94-5573-4145-800f-e5e07f0bb588",
   "metadata": {},
   "outputs": [
    {
     "data": {
      "text/html": [
       "<div>\n",
       "<style scoped>\n",
       "    .dataframe tbody tr th:only-of-type {\n",
       "        vertical-align: middle;\n",
       "    }\n",
       "\n",
       "    .dataframe tbody tr th {\n",
       "        vertical-align: top;\n",
       "    }\n",
       "\n",
       "    .dataframe thead th {\n",
       "        text-align: right;\n",
       "    }\n",
       "</style>\n",
       "<table border=\"1\" class=\"dataframe\">\n",
       "  <thead>\n",
       "    <tr style=\"text-align: right;\">\n",
       "      <th></th>\n",
       "      <th>sum</th>\n",
       "      <th>mean</th>\n",
       "      <th>max</th>\n",
       "      <th>min</th>\n",
       "    </tr>\n",
       "    <tr>\n",
       "      <th>Major</th>\n",
       "      <th></th>\n",
       "      <th></th>\n",
       "      <th></th>\n",
       "      <th></th>\n",
       "    </tr>\n",
       "  </thead>\n",
       "  <tbody>\n",
       "    <tr>\n",
       "      <th>경영학</th>\n",
       "      <td>59</td>\n",
       "      <td>29.5</td>\n",
       "      <td>36</td>\n",
       "      <td>23</td>\n",
       "    </tr>\n",
       "    <tr>\n",
       "      <th>사학</th>\n",
       "      <td>48</td>\n",
       "      <td>24.0</td>\n",
       "      <td>28</td>\n",
       "      <td>20</td>\n",
       "    </tr>\n",
       "  </tbody>\n",
       "</table>\n",
       "</div>"
      ],
      "text/plain": [
       "       sum  mean  max  min\n",
       "Major                     \n",
       "경영학     59  29.5   36   23\n",
       "사학      48  24.0   28   20"
      ]
     },
     "execution_count": 22,
     "metadata": {},
     "output_type": "execute_result"
    }
   ],
   "source": [
    "# Major별 Age 합계, 평균, 최댓값, 최솟값\n",
    "student.groupby('Major')['Age'].agg(['sum', 'mean', 'max', 'min'])"
   ]
  },
  {
   "cell_type": "markdown",
   "id": "2fee7b34-6f52-4c98-aa00-6028cf7b597c",
   "metadata": {},
   "source": [
    "-  여러 열에 대해 여러 집계를 한 번에 수행 가능\n",
    "-  집계 대상 열과 집계 방법을 리스트 형태로 지정"
   ]
  },
  {
   "cell_type": "code",
   "execution_count": 24,
   "id": "ad998091-0911-434d-ae0c-01e0350a7e9a",
   "metadata": {},
   "outputs": [
    {
     "data": {
      "text/html": [
       "<div>\n",
       "<style scoped>\n",
       "    .dataframe tbody tr th:only-of-type {\n",
       "        vertical-align: middle;\n",
       "    }\n",
       "\n",
       "    .dataframe tbody tr th {\n",
       "        vertical-align: top;\n",
       "    }\n",
       "\n",
       "    .dataframe thead tr th {\n",
       "        text-align: left;\n",
       "    }\n",
       "\n",
       "    .dataframe thead tr:last-of-type th {\n",
       "        text-align: right;\n",
       "    }\n",
       "</style>\n",
       "<table border=\"1\" class=\"dataframe\">\n",
       "  <thead>\n",
       "    <tr>\n",
       "      <th></th>\n",
       "      <th colspan=\"2\" halign=\"left\">Age</th>\n",
       "      <th colspan=\"2\" halign=\"left\">Score</th>\n",
       "    </tr>\n",
       "    <tr>\n",
       "      <th></th>\n",
       "      <th>sum</th>\n",
       "      <th>mean</th>\n",
       "      <th>sum</th>\n",
       "      <th>mean</th>\n",
       "    </tr>\n",
       "    <tr>\n",
       "      <th>Major</th>\n",
       "      <th></th>\n",
       "      <th></th>\n",
       "      <th></th>\n",
       "      <th></th>\n",
       "    </tr>\n",
       "  </thead>\n",
       "  <tbody>\n",
       "    <tr>\n",
       "      <th>경영학</th>\n",
       "      <td>59</td>\n",
       "      <td>29.5</td>\n",
       "      <td>170</td>\n",
       "      <td>85.0</td>\n",
       "    </tr>\n",
       "    <tr>\n",
       "      <th>사학</th>\n",
       "      <td>48</td>\n",
       "      <td>24.0</td>\n",
       "      <td>130</td>\n",
       "      <td>65.0</td>\n",
       "    </tr>\n",
       "  </tbody>\n",
       "</table>\n",
       "</div>"
      ],
      "text/plain": [
       "      Age       Score      \n",
       "      sum  mean   sum  mean\n",
       "Major                      \n",
       "경영학    59  29.5   170  85.0\n",
       "사학     48  24.0   130  65.0"
      ]
     },
     "execution_count": 24,
     "metadata": {},
     "output_type": "execute_result"
    }
   ],
   "source": [
    "# Major별 Age, Score 합계, 평균\n",
    "student.groupby('Major')[['Age', 'Score']].agg(['sum', 'mean'])"
   ]
  },
  {
   "cell_type": "markdown",
   "id": "e8924b13-ada0-4937-94c4-c49dbc2a0723",
   "metadata": {},
   "source": [
    "- 여러 열에 대한 각 열마다 다른 집계를 한 번에 수행 가능\n",
    "\n",
    "- '열 이름':'집계 방법' 형태의 key:value를 갖는 딕셔너리 형태로 지정"
   ]
  },
  {
   "cell_type": "code",
   "execution_count": 26,
   "id": "bbd41686-8f8e-4429-a251-58edfeeb659e",
   "metadata": {},
   "outputs": [
    {
     "data": {
      "text/html": [
       "<div>\n",
       "<style scoped>\n",
       "    .dataframe tbody tr th:only-of-type {\n",
       "        vertical-align: middle;\n",
       "    }\n",
       "\n",
       "    .dataframe tbody tr th {\n",
       "        vertical-align: top;\n",
       "    }\n",
       "\n",
       "    .dataframe thead th {\n",
       "        text-align: right;\n",
       "    }\n",
       "</style>\n",
       "<table border=\"1\" class=\"dataframe\">\n",
       "  <thead>\n",
       "    <tr style=\"text-align: right;\">\n",
       "      <th></th>\n",
       "      <th>Major</th>\n",
       "      <th>Age</th>\n",
       "      <th>Score</th>\n",
       "    </tr>\n",
       "  </thead>\n",
       "  <tbody>\n",
       "    <tr>\n",
       "      <th>0</th>\n",
       "      <td>경영학</td>\n",
       "      <td>59</td>\n",
       "      <td>85.0</td>\n",
       "    </tr>\n",
       "    <tr>\n",
       "      <th>1</th>\n",
       "      <td>사학</td>\n",
       "      <td>48</td>\n",
       "      <td>65.0</td>\n",
       "    </tr>\n",
       "  </tbody>\n",
       "</table>\n",
       "</div>"
      ],
      "text/plain": [
       "  Major  Age  Score\n",
       "0   경영학   59   85.0\n",
       "1    사학   48   65.0"
      ]
     },
     "execution_count": 26,
     "metadata": {},
     "output_type": "execute_result"
    }
   ],
   "source": [
    "# Major별 Age 합계, Score 평균\n",
    "student.groupby('Major', as_index=False).agg({'Age':'sum', 'Score':'mean'})"
   ]
  },
  {
   "cell_type": "markdown",
   "id": "2a46707c-873a-480b-8fb6-bbc4e4c90a7e",
   "metadata": {},
   "source": [
    "---"
   ]
  },
  {
   "cell_type": "markdown",
   "id": "500879ab-e621-4aa9-88ee-fbd39634cfab",
   "metadata": {},
   "source": [
    "# 2. Matplotlib\n",
    "구성요소\n",
    "- Figure: 전체 그래프를 담는 객체\n",
    "- Axes: 실제 그래프가 그려지는 영역\n",
    "- Axis: 그래프의 축(x축, y축)"
   ]
  },
  {
   "cell_type": "code",
   "execution_count": 69,
   "id": "ad1ab963-fa18-424a-b820-3a8029e6eb84",
   "metadata": {},
   "outputs": [],
   "source": [
    "import matplotlib.pyplot as plt\n",
    "%config InlineBackend.figure_format='retina'\n",
    "import warnings\n",
    "\n",
    "warnings.filterwarnings(action='ignore')"
   ]
  },
  {
   "cell_type": "code",
   "execution_count": 33,
   "id": "96556f74-017c-4ce3-8f05-06c754089efb",
   "metadata": {},
   "outputs": [],
   "source": [
    "x = [1, 2, 3, 4]\n",
    "y = [10, 20, 25, 30]"
   ]
  },
  {
   "cell_type": "code",
   "execution_count": 36,
   "id": "dddb26da-3710-486f-bd49-ec667b7aea49",
   "metadata": {},
   "outputs": [
    {
     "data": {
      "image/png": "[encoded data removed]",
      "text/plain": [
       "<Figure size 640x480 with 1 Axes>"
      ]
     },
     "metadata": {},
     "output_type": "display_data"
    }
   ],
   "source": [
    "# 선그래프\n",
    "plt.plot(x, y)\n",
    "plt.show()"
   ]
  },
  {
   "cell_type": "code",
   "execution_count": 35,
   "id": "8319df7a-c498-446d-b93b-cf9b121f56d8",
   "metadata": {},
   "outputs": [
    {
     "data": {
      "image/png": "[encoded data removed]",
      "text/plain": [
       "<Figure size 640x480 with 1 Axes>"
      ]
     },
     "metadata": {},
     "output_type": "display_data"
    }
   ],
   "source": [
    "# 산점도\n",
    "plt.scatter(x, y)\n",
    "plt.show()"
   ]
  },
  {
   "cell_type": "code",
   "execution_count": 37,
   "id": "22b9c384-51f4-467b-b54a-04b36a094caf",
   "metadata": {},
   "outputs": [
    {
     "data": {
      "image/png": "[encoded data removed]",
      "text/plain": [
       "<Figure size 640x480 with 1 Axes>"
      ]
     },
     "metadata": {},
     "output_type": "display_data"
    }
   ],
   "source": [
    "# 막대그래프\n",
    "plt.bar(x, y)\n",
    "plt.show()"
   ]
  },
  {
   "cell_type": "code",
   "execution_count": 48,
   "id": "5c8b1247-56e8-4506-9925-869ee5962e72",
   "metadata": {},
   "outputs": [
    {
     "data": {
      "image/png": "[encoded data removed]",
      "text/plain": [
       "<Figure size 640x480 with 1 Axes>"
      ]
     },
     "metadata": {},
     "output_type": "display_data"
    }
   ],
   "source": [
    "data = [1, 1, 2, 3, 3, 3, 4, 5, 5, 5]\n",
    "# bins는 몇개의 구간으로 나눌건지를 정함\n",
    "plt.hist(data, bins=5)\n",
    "plt.show()"
   ]
  },
  {
   "cell_type": "code",
   "execution_count": 56,
   "id": "f88b7c7e-9f7c-487a-9ee2-94e43e00616d",
   "metadata": {},
   "outputs": [
    {
     "data": {
      "image/png": "[encoded data removed]",
      "text/plain": [
       "<Figure size 640x480 with 1 Axes>"
      ]
     },
     "metadata": {},
     "output_type": "display_data"
    }
   ],
   "source": [
    "# 구간을 정할 수도 있음\n",
    "plt.hist(data, bins=[1.0,2.0, 3.0, 8.0])\n",
    "plt.show()"
   ]
  },
  {
   "cell_type": "markdown",
   "id": "d83f6136-b85f-4081-8ef2-fc91c07ec449",
   "metadata": {},
   "source": [
    "- Figure (도화지)\n",
    "    - Figure는 하나의 도화지 또는 캔버스를 의미합니다.\n",
    "    - 모든 그래프는 Figure 위에 그려집니다.\n",
    "    - 하나의 Figure에는 하나 이상의 Axes가 포함될 수 있습니다.\n",
    "- Axes (그래프 영역)\n",
    "    - Axes는 실제로 데이터가 그려지는 개별 그래프 영역입니다.\n",
    "    - 각 Axes는 x축, y축, 제목, 눈금 등을 포함합니다.\n",
    "    - 하나의 Figure 안에 여러 개의 Axes를 배치하여 여러 그래프를 그릴 수 있습니다."
   ]
  },
  {
   "cell_type": "code",
   "execution_count": 64,
   "id": "c0c67d89-eb30-4a93-8373-2b012f168307",
   "metadata": {},
   "outputs": [
    {
     "data": {
      "image/png": "[encoded data removed]",
      "text/plain": [
       "<Figure size 500x300 with 1 Axes>"
      ]
     },
     "metadata": {},
     "output_type": "display_data"
    }
   ],
   "source": [
    "fig, axs = plt.subplots(nrows=1, ncols=1, figsize=(5,3))"
   ]
  },
  {
   "cell_type": "code",
   "execution_count": 63,
   "id": "90ad60c2-3543-4a76-87a3-f08caf2b76ad",
   "metadata": {},
   "outputs": [
    {
     "data": {
      "image/png": "[encoded data removed]",
      "text/plain": [
       "<Figure size 500x300 with 4 Axes>"
      ]
     },
     "metadata": {},
     "output_type": "display_data"
    }
   ],
   "source": [
    "fig, axs = plt.subplots(nrows=2, ncols=2, figsize=(5,3))"
   ]
  },
  {
   "cell_type": "code",
   "execution_count": 65,
   "id": "28d8a3d8-9f41-423d-9915-c3b7d5e9fc87",
   "metadata": {},
   "outputs": [
    {
     "data": {
      "image/png": "[encoded data removed]",
      "text/plain": [
       "<Figure size 500x300 with 4 Axes>"
      ]
     },
     "metadata": {},
     "output_type": "display_data"
    }
   ],
   "source": [
    "fig, axs = plt.subplots(nrows=2, ncols=2, figsize=(5,3))\n",
    "# 레이아웃 조정\n",
    "plt.tight_layout()"
   ]
  },
  {
   "cell_type": "code",
   "execution_count": 72,
   "id": "81d68f11-b45f-42a4-bd50-41d5524aa392",
   "metadata": {},
   "outputs": [
    {
     "data": {
      "image/png": "[encoded data removed]",
      "text/plain": [
       "<Figure size 800x500 with 4 Axes>"
      ]
     },
     "metadata": {
      "image/png": {
       "height": 488,
       "width": 790
      }
     },
     "output_type": "display_data"
    }
   ],
   "source": [
    "# 데이터 준비\n",
    "x = [1, 2, 3, 4, 5]\n",
    "y1 = [10, 20, 25, 30, 40]\n",
    "y2 = [40, 30, 25, 20, 10]\n",
    "y3 = [15, 25, 35, 45, 55]\n",
    "y4 = [55, 45, 35, 25, 15]\n",
    "\n",
    "# Figure와 Axes 생성 (2행 2열의 서브플롯)\n",
    "fig, axs = plt.subplots(2, 2, figsize=(8, 5))\n",
    "\n",
    "# 첫 번째 서브플롯\n",
    "axs[0, 0].plot(x, y1)\n",
    "axs[0, 0].set_title('그래프 1')\n",
    "\n",
    "# 두 번째 서브플롯\n",
    "axs[0, 1].bar(x, y2)\n",
    "axs[0, 1].set_title('그래프 2')\n",
    "\n",
    "# 세 번째 서브플롯\n",
    "axs[1, 0].scatter(x, y3)\n",
    "axs[1, 0].set_title('그래프 3')\n",
    "\n",
    "# 네 번째 서브플롯\n",
    "axs[1, 1].plot(x, y4, color='red')\n",
    "axs[1, 1].set_title('그래프 4')\n",
    "\n",
    "# 레이아웃 조정\n",
    "plt.tight_layout()\n",
    "\n",
    "# 그래프 표시\n",
    "plt.show()"
   ]
  },
  {
   "cell_type": "code",
   "execution_count": 73,
   "id": "88839b2a-d7ab-4585-8e8d-db273203f096",
   "metadata": {},
   "outputs": [],
   "source": [
    "# 운영 체제마다 한글이 보이게 하는 설정\n",
    "# 윈도우\n",
    "import platform\n",
    "import matplotlib\n",
    "from matplotlib import font_manager, rc\n",
    "\n",
    "# '-' 기호 보이게 하기\n",
    "matplotlib.rcParams['axes.unicode_minus'] = False\n",
    "\n",
    "if platform.system() == 'Windows':\n",
    "    path = \"C:\\Windows\\Fonts\\malgun.ttf\"\n",
    "    font_name = font_manager.FontProperties(fname=path).get_name()\n",
    "    rc('font', family=font_name)\n",
    "# 맥\n",
    "elif platform.system() == 'Darwin':\n",
    "    rc('font', family='AppleGothic')\n",
    "# 리눅스\n",
    "elif platform.system() == 'Linux':\n",
    "    rc('font', family='NanumBarunGothic')"
   ]
  },
  {
   "cell_type": "code",
   "execution_count": 74,
   "id": "6772a738-3c13-4c01-b3ea-ba30d0b44090",
   "metadata": {},
   "outputs": [
    {
     "data": {
      "image/png": "[encoded data removed]",
      "text/plain": [
       "<Figure size 800x500 with 4 Axes>"
      ]
     },
     "metadata": {
      "image/png": {
       "height": 490,
       "width": 789
      }
     },
     "output_type": "display_data"
    }
   ],
   "source": [
    "# 데이터 준비\n",
    "x = [1, 2, 3, 4, 5]\n",
    "y1 = [10, 20, 25, 30, 40]\n",
    "y2 = [40, 30, 25, 20, 10]\n",
    "y3 = [15, 25, 35, 45, 55]\n",
    "y4 = [55, 45, 35, 25, 15]\n",
    "\n",
    "# Figure와 Axes 생성 (2행 2열의 서브플롯)\n",
    "fig, axs = plt.subplots(2, 2, figsize=(8, 5))\n",
    "\n",
    "# 첫 번째 서브플롯\n",
    "axs[0, 0].plot(x, y1)\n",
    "axs[0, 0].set_title('그래프 1')\n",
    "\n",
    "# 두 번째 서브플롯\n",
    "axs[0, 1].bar(x, y2)\n",
    "axs[0, 1].set_title('그래프 2')\n",
    "\n",
    "# 세 번째 서브플롯\n",
    "axs[1, 0].scatter(x, y3)\n",
    "axs[1, 0].set_title('그래프 3')\n",
    "\n",
    "# 네 번째 서브플롯\n",
    "axs[1, 1].plot(x, y4, color='red')\n",
    "axs[1, 1].set_title('그래프 4')\n",
    "\n",
    "# 레이아웃 조정\n",
    "plt.tight_layout()\n",
    "\n",
    "# 그래프 표시\n",
    "plt.show()"
   ]
  }
 ],
 "metadata": {
  "kernelspec": {
   "display_name": "Python 3 (ipykernel)",
   "language": "python",
   "name": "python3"
  },
  "language_info": {
   "codemirror_mode": {
    "name": "ipython",
    "version": 3
   },
   "file_extension": ".py",
   "mimetype": "text/x-python",
   "name": "python",
   "nbconvert_exporter": "python",
   "pygments_lexer": "ipython3",
   "version": "3.12.4"
  }
 },
 "nbformat": 4,
 "nbformat_minor": 5
}
