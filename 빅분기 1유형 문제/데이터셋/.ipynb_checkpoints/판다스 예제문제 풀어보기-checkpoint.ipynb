{
 "cells": [
  {
   "cell_type": "markdown",
   "id": "f2a8f4dc-47ec-4424-9771-2e0bdf3e70e6",
   "metadata": {},
   "source": [
    "# 예제1"
   ]
  },
  {
   "cell_type": "markdown",
   "id": "e3a1cd5a-c64c-490d-a778-18744c395118",
   "metadata": {},
   "source": [
    "1. mtcars 데이터셋의 sqec 컬럼을 최소최대척도로 변환 후 0.5보다 큰 값을 가지는 레코드 수를 구하라"
   ]
  },
  {
   "cell_type": "code",
   "execution_count": 23,
   "id": "745f25ba-2b07-4d7a-9ff5-4da42dfc8b09",
   "metadata": {},
   "outputs": [],
   "source": [
    "# 라이브러리 불러오기\n",
    "import pandas as pd\n",
    "\n",
    "# 데이터셋 불러오기\n",
    "data = pd.read_csv(r\"C:\\Users\\User\\kt\\개인공부 정리\\판다스 최종 복습판\\데이터셋\\part2\\1유형\\mtcars.csv\")\n"
   ]
  },
  {
   "cell_type": "code",
   "execution_count": 25,
   "id": "5407d46d-44b0-4765-a611-f09f4a49ba85",
   "metadata": {},
   "outputs": [
    {
     "data": {
      "text/html": [
       "<div>\n",
       "<style scoped>\n",
       "    .dataframe tbody tr th:only-of-type {\n",
       "        vertical-align: middle;\n",
       "    }\n",
       "\n",
       "    .dataframe tbody tr th {\n",
       "        vertical-align: top;\n",
       "    }\n",
       "\n",
       "    .dataframe thead th {\n",
       "        text-align: right;\n",
       "    }\n",
       "</style>\n",
       "<table border=\"1\" class=\"dataframe\">\n",
       "  <thead>\n",
       "    <tr style=\"text-align: right;\">\n",
       "      <th></th>\n",
       "      <th>car_name</th>\n",
       "      <th>mpg</th>\n",
       "      <th>cyl</th>\n",
       "      <th>disp</th>\n",
       "      <th>hp</th>\n",
       "      <th>drat</th>\n",
       "      <th>wt</th>\n",
       "      <th>qsec</th>\n",
       "      <th>vs</th>\n",
       "      <th>am</th>\n",
       "      <th>gear</th>\n",
       "      <th>carb</th>\n",
       "    </tr>\n",
       "  </thead>\n",
       "  <tbody>\n",
       "    <tr>\n",
       "      <th>0</th>\n",
       "      <td>Mazda RX4</td>\n",
       "      <td>21.0</td>\n",
       "      <td>6</td>\n",
       "      <td>160.0</td>\n",
       "      <td>110</td>\n",
       "      <td>3.90</td>\n",
       "      <td>2.620</td>\n",
       "      <td>16.46</td>\n",
       "      <td>0</td>\n",
       "      <td>1</td>\n",
       "      <td>4</td>\n",
       "      <td>4</td>\n",
       "    </tr>\n",
       "    <tr>\n",
       "      <th>1</th>\n",
       "      <td>Mazda RX4 Wag</td>\n",
       "      <td>21.0</td>\n",
       "      <td>6</td>\n",
       "      <td>160.0</td>\n",
       "      <td>110</td>\n",
       "      <td>3.90</td>\n",
       "      <td>2.875</td>\n",
       "      <td>17.02</td>\n",
       "      <td>0</td>\n",
       "      <td>1</td>\n",
       "      <td>4</td>\n",
       "      <td>4</td>\n",
       "    </tr>\n",
       "    <tr>\n",
       "      <th>2</th>\n",
       "      <td>Datsun 710</td>\n",
       "      <td>22.8</td>\n",
       "      <td>4</td>\n",
       "      <td>108.0</td>\n",
       "      <td>93</td>\n",
       "      <td>3.85</td>\n",
       "      <td>2.320</td>\n",
       "      <td>18.61</td>\n",
       "      <td>1</td>\n",
       "      <td>1</td>\n",
       "      <td>4</td>\n",
       "      <td>1</td>\n",
       "    </tr>\n",
       "    <tr>\n",
       "      <th>3</th>\n",
       "      <td>Hornet 4 Drive</td>\n",
       "      <td>21.4</td>\n",
       "      <td>6</td>\n",
       "      <td>258.0</td>\n",
       "      <td>110</td>\n",
       "      <td>3.08</td>\n",
       "      <td>3.215</td>\n",
       "      <td>19.44</td>\n",
       "      <td>1</td>\n",
       "      <td>0</td>\n",
       "      <td>3</td>\n",
       "      <td>1</td>\n",
       "    </tr>\n",
       "    <tr>\n",
       "      <th>4</th>\n",
       "      <td>Hornet Sportabout</td>\n",
       "      <td>18.7</td>\n",
       "      <td>8</td>\n",
       "      <td>360.0</td>\n",
       "      <td>175</td>\n",
       "      <td>3.15</td>\n",
       "      <td>3.440</td>\n",
       "      <td>17.02</td>\n",
       "      <td>0</td>\n",
       "      <td>0</td>\n",
       "      <td>3</td>\n",
       "      <td>2</td>\n",
       "    </tr>\n",
       "  </tbody>\n",
       "</table>\n",
       "</div>"
      ],
      "text/plain": [
       "            car_name   mpg  cyl   disp   hp  drat     wt   qsec  vs  am  gear  \\\n",
       "0          Mazda RX4  21.0    6  160.0  110  3.90  2.620  16.46   0   1     4   \n",
       "1      Mazda RX4 Wag  21.0    6  160.0  110  3.90  2.875  17.02   0   1     4   \n",
       "2         Datsun 710  22.8    4  108.0   93  3.85  2.320  18.61   1   1     4   \n",
       "3     Hornet 4 Drive  21.4    6  258.0  110  3.08  3.215  19.44   1   0     3   \n",
       "4  Hornet Sportabout  18.7    8  360.0  175  3.15  3.440  17.02   0   0     3   \n",
       "\n",
       "   carb  \n",
       "0     4  \n",
       "1     4  \n",
       "2     1  \n",
       "3     1  \n",
       "4     2  "
      ]
     },
     "execution_count": 25,
     "metadata": {},
     "output_type": "execute_result"
    }
   ],
   "source": [
    "# 데이터 확인\n",
    "data.head()"
   ]
  },
  {
   "cell_type": "code",
   "execution_count": 31,
   "id": "05621777-a51e-498d-8d4e-3b8cbc91db86",
   "metadata": {},
   "outputs": [],
   "source": [
    "# qsec 열을 정규화 해주기\n",
    "from sklearn.preprocessing import MinMaxScaler\n",
    "\n",
    "scaler = MinMaxScaler()\n",
    "data['qsec'] = scaler.fit_transform(data[['qsec']])"
   ]
  },
  {
   "cell_type": "code",
   "execution_count": 43,
   "id": "7a2bdad5-d0d2-4443-8858-372f4647712f",
   "metadata": {},
   "outputs": [
    {
     "data": {
      "text/plain": [
       "9"
      ]
     },
     "execution_count": 43,
     "metadata": {},
     "output_type": "execute_result"
    }
   ],
   "source": [
    "# 0.5보다 큰 것을 뽑아 냄\n",
    "temp =data.loc[data['qsec']>0.5]\n",
    "\n",
    "# 갯수 확인\n",
    "len(temp)"
   ]
  },
  {
   "cell_type": "markdown",
   "id": "faca64a3-b3a4-4c9d-9f79-9952e7b682e3",
   "metadata": {},
   "source": [
    "# 예제2"
   ]
  },
  {
   "cell_type": "markdown",
   "id": "e45b0d59-eb5d-48fb-888b-bb445e4ff443",
   "metadata": {},
   "source": [
    "1. titanic 데이터셋의 승선한 사람들의 클래스와 성별 10개를 나이가 많은 순서로 나열하여 데이터 프레임 형태로 출력하라"
   ]
  },
  {
   "cell_type": "code",
   "execution_count": 108,
   "id": "08b4d348-eac0-4366-84b3-f52e0b78d4c6",
   "metadata": {},
   "outputs": [],
   "source": [
    "# 라이브러리 불러오기\n",
    "import pandas as pd\n",
    "\n",
    "# 데이터 불러오기.\n",
    "titanic = pd.read_csv(r'part1\\titanic.csv')"
   ]
  },
  {
   "cell_type": "code",
   "execution_count": 110,
   "id": "fe9a385c-53be-45d0-9a3b-435c15d527b8",
   "metadata": {},
   "outputs": [
    {
     "data": {
      "text/html": [
       "<div>\n",
       "<style scoped>\n",
       "    .dataframe tbody tr th:only-of-type {\n",
       "        vertical-align: middle;\n",
       "    }\n",
       "\n",
       "    .dataframe tbody tr th {\n",
       "        vertical-align: top;\n",
       "    }\n",
       "\n",
       "    .dataframe thead th {\n",
       "        text-align: right;\n",
       "    }\n",
       "</style>\n",
       "<table border=\"1\" class=\"dataframe\">\n",
       "  <thead>\n",
       "    <tr style=\"text-align: right;\">\n",
       "      <th></th>\n",
       "      <th>PassengerId</th>\n",
       "      <th>Survived</th>\n",
       "      <th>Pclass</th>\n",
       "      <th>Name</th>\n",
       "      <th>Sex</th>\n",
       "      <th>Age</th>\n",
       "      <th>SibSp</th>\n",
       "      <th>Fare</th>\n",
       "      <th>Embarked</th>\n",
       "    </tr>\n",
       "  </thead>\n",
       "  <tbody>\n",
       "    <tr>\n",
       "      <th>0</th>\n",
       "      <td>1</td>\n",
       "      <td>0</td>\n",
       "      <td>3</td>\n",
       "      <td>Braund, Mr. Owen Harris</td>\n",
       "      <td>male</td>\n",
       "      <td>22.0</td>\n",
       "      <td>1</td>\n",
       "      <td>7.2500</td>\n",
       "      <td>S</td>\n",
       "    </tr>\n",
       "    <tr>\n",
       "      <th>1</th>\n",
       "      <td>2</td>\n",
       "      <td>1</td>\n",
       "      <td>1</td>\n",
       "      <td>Cumings, Mrs. John Bradley (Florence Briggs Th...</td>\n",
       "      <td>female</td>\n",
       "      <td>38.0</td>\n",
       "      <td>1</td>\n",
       "      <td>71.2833</td>\n",
       "      <td>C</td>\n",
       "    </tr>\n",
       "    <tr>\n",
       "      <th>2</th>\n",
       "      <td>3</td>\n",
       "      <td>1</td>\n",
       "      <td>3</td>\n",
       "      <td>Heikkinen, Miss. Laina</td>\n",
       "      <td>female</td>\n",
       "      <td>26.0</td>\n",
       "      <td>0</td>\n",
       "      <td>7.9250</td>\n",
       "      <td>S</td>\n",
       "    </tr>\n",
       "    <tr>\n",
       "      <th>3</th>\n",
       "      <td>4</td>\n",
       "      <td>1</td>\n",
       "      <td>1</td>\n",
       "      <td>Futrelle, Mrs. Jacques Heath (Lily May Peel)</td>\n",
       "      <td>female</td>\n",
       "      <td>35.0</td>\n",
       "      <td>1</td>\n",
       "      <td>53.1000</td>\n",
       "      <td>S</td>\n",
       "    </tr>\n",
       "    <tr>\n",
       "      <th>4</th>\n",
       "      <td>5</td>\n",
       "      <td>0</td>\n",
       "      <td>3</td>\n",
       "      <td>Allen, Mr. William Henry</td>\n",
       "      <td>male</td>\n",
       "      <td>35.0</td>\n",
       "      <td>0</td>\n",
       "      <td>8.0500</td>\n",
       "      <td>S</td>\n",
       "    </tr>\n",
       "  </tbody>\n",
       "</table>\n",
       "</div>"
      ],
      "text/plain": [
       "   PassengerId  Survived  Pclass  \\\n",
       "0            1         0       3   \n",
       "1            2         1       1   \n",
       "2            3         1       3   \n",
       "3            4         1       1   \n",
       "4            5         0       3   \n",
       "\n",
       "                                                Name     Sex   Age  SibSp  \\\n",
       "0                            Braund, Mr. Owen Harris    male  22.0      1   \n",
       "1  Cumings, Mrs. John Bradley (Florence Briggs Th...  female  38.0      1   \n",
       "2                             Heikkinen, Miss. Laina  female  26.0      0   \n",
       "3       Futrelle, Mrs. Jacques Heath (Lily May Peel)  female  35.0      1   \n",
       "4                           Allen, Mr. William Henry    male  35.0      0   \n",
       "\n",
       "      Fare Embarked  \n",
       "0   7.2500        S  \n",
       "1  71.2833        C  \n",
       "2   7.9250        S  \n",
       "3  53.1000        S  \n",
       "4   8.0500        S  "
      ]
     },
     "execution_count": 110,
     "metadata": {},
     "output_type": "execute_result"
    }
   ],
   "source": [
    "# 데이터 확인\n",
    "titanic.head()"
   ]
  },
  {
   "cell_type": "code",
   "execution_count": 112,
   "id": "99105a9a-ae88-4490-a110-980e5d8fa09e",
   "metadata": {},
   "outputs": [
    {
     "data": {
      "text/html": [
       "<div>\n",
       "<style scoped>\n",
       "    .dataframe tbody tr th:only-of-type {\n",
       "        vertical-align: middle;\n",
       "    }\n",
       "\n",
       "    .dataframe tbody tr th {\n",
       "        vertical-align: top;\n",
       "    }\n",
       "\n",
       "    .dataframe thead th {\n",
       "        text-align: right;\n",
       "    }\n",
       "</style>\n",
       "<table border=\"1\" class=\"dataframe\">\n",
       "  <thead>\n",
       "    <tr style=\"text-align: right;\">\n",
       "      <th></th>\n",
       "      <th>Pclass</th>\n",
       "      <th>Sex</th>\n",
       "    </tr>\n",
       "  </thead>\n",
       "  <tbody>\n",
       "    <tr>\n",
       "      <th>630</th>\n",
       "      <td>1</td>\n",
       "      <td>male</td>\n",
       "    </tr>\n",
       "    <tr>\n",
       "      <th>851</th>\n",
       "      <td>3</td>\n",
       "      <td>male</td>\n",
       "    </tr>\n",
       "    <tr>\n",
       "      <th>493</th>\n",
       "      <td>1</td>\n",
       "      <td>male</td>\n",
       "    </tr>\n",
       "    <tr>\n",
       "      <th>96</th>\n",
       "      <td>1</td>\n",
       "      <td>male</td>\n",
       "    </tr>\n",
       "    <tr>\n",
       "      <th>116</th>\n",
       "      <td>3</td>\n",
       "      <td>male</td>\n",
       "    </tr>\n",
       "    <tr>\n",
       "      <th>672</th>\n",
       "      <td>2</td>\n",
       "      <td>male</td>\n",
       "    </tr>\n",
       "    <tr>\n",
       "      <th>745</th>\n",
       "      <td>1</td>\n",
       "      <td>male</td>\n",
       "    </tr>\n",
       "    <tr>\n",
       "      <th>33</th>\n",
       "      <td>2</td>\n",
       "      <td>male</td>\n",
       "    </tr>\n",
       "    <tr>\n",
       "      <th>54</th>\n",
       "      <td>1</td>\n",
       "      <td>male</td>\n",
       "    </tr>\n",
       "    <tr>\n",
       "      <th>280</th>\n",
       "      <td>3</td>\n",
       "      <td>male</td>\n",
       "    </tr>\n",
       "  </tbody>\n",
       "</table>\n",
       "</div>"
      ],
      "text/plain": [
       "     Pclass   Sex\n",
       "630       1  male\n",
       "851       3  male\n",
       "493       1  male\n",
       "96        1  male\n",
       "116       3  male\n",
       "672       2  male\n",
       "745       1  male\n",
       "33        2  male\n",
       "54        1  male\n",
       "280       3  male"
      ]
     },
     "execution_count": 112,
     "metadata": {},
     "output_type": "execute_result"
    }
   ],
   "source": [
    "# 나이가 많은 순으로 정렬하기\n",
    "sort_data = titanic.sort_values(by='Age',ascending = False)[:10]\n",
    "\n",
    "#  클래스와 성별을 데이터 프레임으로 뽑아내기\n",
    "sort_data[['Pclass','Sex']]"
   ]
  },
  {
   "cell_type": "markdown",
   "id": "21986035-7270-482a-b412-0b157866eb99",
   "metadata": {},
   "source": [
    "2. Age의 결측치값을 평균으로 채우고, age를 표준정규분포로 스케일링한 값을 age_scale열에 저장하라."
   ]
  },
  {
   "cell_type": "code",
   "execution_count": 115,
   "id": "dcb5c638-2f62-45d5-a85b-92a4c3f916d4",
   "metadata": {},
   "outputs": [
    {
     "data": {
      "text/plain": [
       "177"
      ]
     },
     "execution_count": 115,
     "metadata": {},
     "output_type": "execute_result"
    }
   ],
   "source": [
    "# 결측치 부터 확인\n",
    "titanic['Age'].isna().sum()"
   ]
  },
  {
   "cell_type": "code",
   "execution_count": 117,
   "id": "d1dbf9e2-306c-4e11-a455-c27308dd38fe",
   "metadata": {},
   "outputs": [],
   "source": [
    "# 결측치를 평균으로 채워넣기\n",
    "titanic['Age'] = titanic['Age'].fillna(titanic['Age'].mean())"
   ]
  },
  {
   "cell_type": "code",
   "execution_count": 121,
   "id": "728b3f1c-6619-408b-986a-da6de25681ce",
   "metadata": {},
   "outputs": [
    {
     "data": {
      "text/plain": [
       "0"
      ]
     },
     "execution_count": 121,
     "metadata": {},
     "output_type": "execute_result"
    }
   ],
   "source": [
    "# 결측치 확인\n",
    "titanic['Age'].isna().sum()"
   ]
  },
  {
   "cell_type": "code",
   "execution_count": 125,
   "id": "e7e659d2-12e5-492e-aa30-9148db5aad6b",
   "metadata": {},
   "outputs": [],
   "source": [
    "# 라이브러리 불러와 표준정규분포 만들기\n",
    "from sklearn.preprocessing import StandardScaler\n",
    "\n",
    "# 표준화 만들기\n",
    "scaler = StandardScaler()\n",
    "titanic['age_scale'] = scaler.fit_transform(titanic[['Age']])"
   ]
  },
  {
   "cell_type": "code",
   "execution_count": 127,
   "id": "1bb605a8-8cf2-4fd8-b052-cfcab946cc74",
   "metadata": {},
   "outputs": [
    {
     "name": "stdout",
     "output_type": "stream",
     "text": [
      "0     -0.592481\n",
      "1      0.638789\n",
      "2     -0.284663\n",
      "3      0.407926\n",
      "4      0.407926\n",
      "         ...   \n",
      "886   -0.207709\n",
      "887   -0.823344\n",
      "888    0.000000\n",
      "889   -0.284663\n",
      "890    0.177063\n",
      "Name: age_scale, Length: 891, dtype: float64\n"
     ]
    }
   ],
   "source": [
    "# 정답 출력\n",
    "print(titanic['age_scale'])"
   ]
  },
  {
   "cell_type": "markdown",
   "id": "b5a15ba3-4937-4018-9406-ac80a3990212",
   "metadata": {},
   "source": [
    "3. 연령대가 30대인 데이터를 추출하여 그 추출된 데이터 중에서 생존한 사람들의 pclass,sex,age,sibsp데이터를 데이터 프레임 형태로 상위 5개 나타내라"
   ]
  },
  {
   "cell_type": "code",
   "execution_count": 144,
   "id": "c681dad6-c8e6-4ec4-a80c-97f845beab08",
   "metadata": {},
   "outputs": [
    {
     "data": {
      "text/html": [
       "<div>\n",
       "<style scoped>\n",
       "    .dataframe tbody tr th:only-of-type {\n",
       "        vertical-align: middle;\n",
       "    }\n",
       "\n",
       "    .dataframe tbody tr th {\n",
       "        vertical-align: top;\n",
       "    }\n",
       "\n",
       "    .dataframe thead th {\n",
       "        text-align: right;\n",
       "    }\n",
       "</style>\n",
       "<table border=\"1\" class=\"dataframe\">\n",
       "  <thead>\n",
       "    <tr style=\"text-align: right;\">\n",
       "      <th></th>\n",
       "      <th>Pclass</th>\n",
       "      <th>Sex</th>\n",
       "      <th>Age</th>\n",
       "      <th>SibSp</th>\n",
       "    </tr>\n",
       "  </thead>\n",
       "  <tbody>\n",
       "    <tr>\n",
       "      <th>1</th>\n",
       "      <td>1</td>\n",
       "      <td>female</td>\n",
       "      <td>38.0</td>\n",
       "      <td>1</td>\n",
       "    </tr>\n",
       "    <tr>\n",
       "      <th>3</th>\n",
       "      <td>1</td>\n",
       "      <td>female</td>\n",
       "      <td>35.0</td>\n",
       "      <td>1</td>\n",
       "    </tr>\n",
       "    <tr>\n",
       "      <th>21</th>\n",
       "      <td>2</td>\n",
       "      <td>male</td>\n",
       "      <td>34.0</td>\n",
       "      <td>0</td>\n",
       "    </tr>\n",
       "    <tr>\n",
       "      <th>25</th>\n",
       "      <td>3</td>\n",
       "      <td>female</td>\n",
       "      <td>38.0</td>\n",
       "      <td>1</td>\n",
       "    </tr>\n",
       "    <tr>\n",
       "      <th>61</th>\n",
       "      <td>1</td>\n",
       "      <td>female</td>\n",
       "      <td>38.0</td>\n",
       "      <td>0</td>\n",
       "    </tr>\n",
       "  </tbody>\n",
       "</table>\n",
       "</div>"
      ],
      "text/plain": [
       "    Pclass     Sex   Age  SibSp\n",
       "1        1  female  38.0      1\n",
       "3        1  female  35.0      1\n",
       "21       2    male  34.0      0\n",
       "25       3  female  38.0      1\n",
       "61       1  female  38.0      0"
      ]
     },
     "execution_count": 144,
     "metadata": {},
     "output_type": "execute_result"
    }
   ],
   "source": [
    "# 연령대가 30대인 데이터에서 특정열 추출하기\n",
    "more_than30 = titanic.loc[ (titanic['Age']>=30) & (titanic['Age'] <40) & (titanic['Survived']==1) ,['Pclass','Sex','Age','SibSp']]\n",
    "\n",
    "# 생존한 사람으로 다시 추출하기\n",
    "more_than30.head()"
   ]
  },
  {
   "cell_type": "markdown",
   "id": "c84180ce-93f7-46d2-bbc9-1d585784f5f7",
   "metadata": {},
   "source": [
    "4. 생존한 사람과 생존하지 않은 사람들의 나이 평균값을 순서대로 소수점 2째자리까지 구하라.  \n",
    "   단, 나이 결측치는 전체 탑승자의 평균으로 채워라"
   ]
  },
  {
   "cell_type": "code",
   "execution_count": 154,
   "id": "b3bf0115-2462-4252-aa30-0105af6e6f49",
   "metadata": {},
   "outputs": [
    {
     "data": {
      "text/html": [
       "<div>\n",
       "<style scoped>\n",
       "    .dataframe tbody tr th:only-of-type {\n",
       "        vertical-align: middle;\n",
       "    }\n",
       "\n",
       "    .dataframe tbody tr th {\n",
       "        vertical-align: top;\n",
       "    }\n",
       "\n",
       "    .dataframe thead th {\n",
       "        text-align: right;\n",
       "    }\n",
       "</style>\n",
       "<table border=\"1\" class=\"dataframe\">\n",
       "  <thead>\n",
       "    <tr style=\"text-align: right;\">\n",
       "      <th></th>\n",
       "      <th>Survived</th>\n",
       "      <th>Age</th>\n",
       "    </tr>\n",
       "  </thead>\n",
       "  <tbody>\n",
       "    <tr>\n",
       "      <th>0</th>\n",
       "      <td>0</td>\n",
       "      <td>30.42</td>\n",
       "    </tr>\n",
       "    <tr>\n",
       "      <th>1</th>\n",
       "      <td>1</td>\n",
       "      <td>28.55</td>\n",
       "    </tr>\n",
       "  </tbody>\n",
       "</table>\n",
       "</div>"
      ],
      "text/plain": [
       "   Survived    Age\n",
       "0         0  30.42\n",
       "1         1  28.55"
      ]
     },
     "execution_count": 154,
     "metadata": {},
     "output_type": "execute_result"
    }
   ],
   "source": [
    "# 결측치는 이미 앞서 채웠기에 넘기고 , 생존한 사람과 아닌 사람의 나이 평균을 구해보기\n",
    "titanic.groupby(by='Survived',as_index= False)['Age'].mean().round(2)"
   ]
  },
  {
   "cell_type": "markdown",
   "id": "970364ed-9c96-4ade-97f8-616d54a8840d",
   "metadata": {},
   "source": [
    "5. 요금의 최고와 최저의 평균을 구하라"
   ]
  },
  {
   "cell_type": "code",
   "execution_count": 161,
   "id": "40441c13-4408-495f-a48c-3a41b9335b7c",
   "metadata": {},
   "outputs": [
    {
     "data": {
      "text/plain": [
       "256.1646"
      ]
     },
     "execution_count": 161,
     "metadata": {},
     "output_type": "execute_result"
    }
   ],
   "source": [
    "# 최대외 최소를 구하기\n",
    "fare_min = titanic['Fare'].min()\n",
    "fare_max = titanic['Fare'].max()\n",
    "\n",
    "# 평균값 계산하기\n",
    "fare_mean = (fare_max + fare_min)/2\n",
    "\n",
    "# 평균값 출력\n",
    "fare_mean"
   ]
  },
  {
   "cell_type": "markdown",
   "id": "e7203973-3baf-4be2-ac64-b057012ccaa3",
   "metadata": {},
   "source": [
    "6. 생존자 중에서 pclass가 2보다 큰 승객의 이름, 나이, 성별을 데이터 프레임 형태로 출력하라"
   ]
  },
  {
   "cell_type": "code",
   "execution_count": 167,
   "id": "1d301767-443b-49a7-a858-19f50e23eb8f",
   "metadata": {},
   "outputs": [
    {
     "data": {
      "text/html": [
       "<div>\n",
       "<style scoped>\n",
       "    .dataframe tbody tr th:only-of-type {\n",
       "        vertical-align: middle;\n",
       "    }\n",
       "\n",
       "    .dataframe tbody tr th {\n",
       "        vertical-align: top;\n",
       "    }\n",
       "\n",
       "    .dataframe thead th {\n",
       "        text-align: right;\n",
       "    }\n",
       "</style>\n",
       "<table border=\"1\" class=\"dataframe\">\n",
       "  <thead>\n",
       "    <tr style=\"text-align: right;\">\n",
       "      <th></th>\n",
       "      <th>Name</th>\n",
       "      <th>Age</th>\n",
       "      <th>Sex</th>\n",
       "    </tr>\n",
       "  </thead>\n",
       "  <tbody>\n",
       "    <tr>\n",
       "      <th>2</th>\n",
       "      <td>Heikkinen, Miss. Laina</td>\n",
       "      <td>26.0</td>\n",
       "      <td>female</td>\n",
       "    </tr>\n",
       "    <tr>\n",
       "      <th>8</th>\n",
       "      <td>Johnson, Mrs. Oscar W (Elisabeth Vilhelmina Berg)</td>\n",
       "      <td>27.0</td>\n",
       "      <td>female</td>\n",
       "    </tr>\n",
       "    <tr>\n",
       "      <th>9</th>\n",
       "      <td>Nasser, Mrs. Nicholas (Adele Achem)</td>\n",
       "      <td>14.0</td>\n",
       "      <td>female</td>\n",
       "    </tr>\n",
       "    <tr>\n",
       "      <th>10</th>\n",
       "      <td>Sandstrom, Miss. Marguerite Rut</td>\n",
       "      <td>4.0</td>\n",
       "      <td>female</td>\n",
       "    </tr>\n",
       "    <tr>\n",
       "      <th>15</th>\n",
       "      <td>Hewlett, Mrs. (Mary D Kingcome)</td>\n",
       "      <td>55.0</td>\n",
       "      <td>female</td>\n",
       "    </tr>\n",
       "    <tr>\n",
       "      <th>...</th>\n",
       "      <td>...</td>\n",
       "      <td>...</td>\n",
       "      <td>...</td>\n",
       "    </tr>\n",
       "    <tr>\n",
       "      <th>866</th>\n",
       "      <td>Duran y More, Miss. Asuncion</td>\n",
       "      <td>27.0</td>\n",
       "      <td>female</td>\n",
       "    </tr>\n",
       "    <tr>\n",
       "      <th>869</th>\n",
       "      <td>Johnson, Master. Harold Theodor</td>\n",
       "      <td>4.0</td>\n",
       "      <td>male</td>\n",
       "    </tr>\n",
       "    <tr>\n",
       "      <th>874</th>\n",
       "      <td>Abelson, Mrs. Samuel (Hannah Wizosky)</td>\n",
       "      <td>28.0</td>\n",
       "      <td>female</td>\n",
       "    </tr>\n",
       "    <tr>\n",
       "      <th>875</th>\n",
       "      <td>Najib, Miss. Adele Kiamie \"Jane\"</td>\n",
       "      <td>15.0</td>\n",
       "      <td>female</td>\n",
       "    </tr>\n",
       "    <tr>\n",
       "      <th>880</th>\n",
       "      <td>Shelley, Mrs. William (Imanita Parrish Hall)</td>\n",
       "      <td>25.0</td>\n",
       "      <td>female</td>\n",
       "    </tr>\n",
       "  </tbody>\n",
       "</table>\n",
       "<p>206 rows × 3 columns</p>\n",
       "</div>"
      ],
      "text/plain": [
       "                                                  Name   Age     Sex\n",
       "2                               Heikkinen, Miss. Laina  26.0  female\n",
       "8    Johnson, Mrs. Oscar W (Elisabeth Vilhelmina Berg)  27.0  female\n",
       "9                  Nasser, Mrs. Nicholas (Adele Achem)  14.0  female\n",
       "10                     Sandstrom, Miss. Marguerite Rut   4.0  female\n",
       "15                    Hewlett, Mrs. (Mary D Kingcome)   55.0  female\n",
       "..                                                 ...   ...     ...\n",
       "866                       Duran y More, Miss. Asuncion  27.0  female\n",
       "869                    Johnson, Master. Harold Theodor   4.0    male\n",
       "874              Abelson, Mrs. Samuel (Hannah Wizosky)  28.0  female\n",
       "875                   Najib, Miss. Adele Kiamie \"Jane\"  15.0  female\n",
       "880       Shelley, Mrs. William (Imanita Parrish Hall)  25.0  female\n",
       "\n",
       "[206 rows x 3 columns]"
      ]
     },
     "execution_count": 167,
     "metadata": {},
     "output_type": "execute_result"
    }
   ],
   "source": [
    "titanic.loc[(titanic['Survived'] == 1) & (titanic['Pclass'] >= 2), ['Name','Age','Sex']]"
   ]
  },
  {
   "cell_type": "markdown",
   "id": "f15aca17-5125-4394-b1c1-b51aa4a2e6c7",
   "metadata": {},
   "source": [
    "# 예제3"
   ]
  },
  {
   "cell_type": "markdown",
   "id": "cf2b5859-7b61-4b7e-af52-51ff5513e0cd",
   "metadata": {},
   "source": [
    "1.alcalinity of ash의 평균값과 표준편차를 정수형태로 구하라."
   ]
  },
  {
   "cell_type": "code",
   "execution_count": 181,
   "id": "3cf44bee-432a-44d3-b113-a088a07872a8",
   "metadata": {},
   "outputs": [
    {
     "data": {
      "text/html": [
       "<div>\n",
       "<style scoped>\n",
       "    .dataframe tbody tr th:only-of-type {\n",
       "        vertical-align: middle;\n",
       "    }\n",
       "\n",
       "    .dataframe tbody tr th {\n",
       "        vertical-align: top;\n",
       "    }\n",
       "\n",
       "    .dataframe thead th {\n",
       "        text-align: right;\n",
       "    }\n",
       "</style>\n",
       "<table border=\"1\" class=\"dataframe\">\n",
       "  <thead>\n",
       "    <tr style=\"text-align: right;\">\n",
       "      <th></th>\n",
       "      <th>class</th>\n",
       "      <th>Alcohol</th>\n",
       "      <th>Malic acid</th>\n",
       "      <th>Ash</th>\n",
       "      <th>Alcalinity of ash</th>\n",
       "      <th>Magnesium</th>\n",
       "      <th>Total phenols</th>\n",
       "      <th>Flavanoids</th>\n",
       "      <th>Nonflavanoid phenols</th>\n",
       "      <th>Proanthocyanins</th>\n",
       "      <th>Color intensity</th>\n",
       "      <th>Hue</th>\n",
       "      <th>OD280/OD315 of diluted wines</th>\n",
       "      <th>Proline</th>\n",
       "    </tr>\n",
       "  </thead>\n",
       "  <tbody>\n",
       "    <tr>\n",
       "      <th>0</th>\n",
       "      <td>1</td>\n",
       "      <td>14.23</td>\n",
       "      <td>1.71</td>\n",
       "      <td>2.43</td>\n",
       "      <td>15.6</td>\n",
       "      <td>127</td>\n",
       "      <td>2.80</td>\n",
       "      <td>3.06</td>\n",
       "      <td>0.28</td>\n",
       "      <td>2.29</td>\n",
       "      <td>5.64</td>\n",
       "      <td>1.04</td>\n",
       "      <td>3.92</td>\n",
       "      <td>1065</td>\n",
       "    </tr>\n",
       "    <tr>\n",
       "      <th>1</th>\n",
       "      <td>1</td>\n",
       "      <td>13.20</td>\n",
       "      <td>1.78</td>\n",
       "      <td>2.14</td>\n",
       "      <td>11.2</td>\n",
       "      <td>100</td>\n",
       "      <td>2.65</td>\n",
       "      <td>2.76</td>\n",
       "      <td>0.26</td>\n",
       "      <td>1.28</td>\n",
       "      <td>4.38</td>\n",
       "      <td>1.05</td>\n",
       "      <td>3.40</td>\n",
       "      <td>1050</td>\n",
       "    </tr>\n",
       "    <tr>\n",
       "      <th>2</th>\n",
       "      <td>1</td>\n",
       "      <td>13.16</td>\n",
       "      <td>2.36</td>\n",
       "      <td>2.67</td>\n",
       "      <td>18.6</td>\n",
       "      <td>101</td>\n",
       "      <td>2.80</td>\n",
       "      <td>3.24</td>\n",
       "      <td>0.30</td>\n",
       "      <td>2.81</td>\n",
       "      <td>5.68</td>\n",
       "      <td>1.03</td>\n",
       "      <td>3.17</td>\n",
       "      <td>1185</td>\n",
       "    </tr>\n",
       "    <tr>\n",
       "      <th>3</th>\n",
       "      <td>1</td>\n",
       "      <td>14.37</td>\n",
       "      <td>1.95</td>\n",
       "      <td>2.50</td>\n",
       "      <td>16.8</td>\n",
       "      <td>113</td>\n",
       "      <td>3.85</td>\n",
       "      <td>3.49</td>\n",
       "      <td>0.24</td>\n",
       "      <td>2.18</td>\n",
       "      <td>7.80</td>\n",
       "      <td>0.86</td>\n",
       "      <td>3.45</td>\n",
       "      <td>1480</td>\n",
       "    </tr>\n",
       "    <tr>\n",
       "      <th>4</th>\n",
       "      <td>1</td>\n",
       "      <td>13.24</td>\n",
       "      <td>2.59</td>\n",
       "      <td>2.87</td>\n",
       "      <td>21.0</td>\n",
       "      <td>118</td>\n",
       "      <td>2.80</td>\n",
       "      <td>2.69</td>\n",
       "      <td>0.39</td>\n",
       "      <td>1.82</td>\n",
       "      <td>4.32</td>\n",
       "      <td>1.04</td>\n",
       "      <td>2.93</td>\n",
       "      <td>735</td>\n",
       "    </tr>\n",
       "  </tbody>\n",
       "</table>\n",
       "</div>"
      ],
      "text/plain": [
       "   class  Alcohol  Malic acid   Ash  Alcalinity of ash  Magnesium  \\\n",
       "0      1    14.23        1.71  2.43               15.6        127   \n",
       "1      1    13.20        1.78  2.14               11.2        100   \n",
       "2      1    13.16        2.36  2.67               18.6        101   \n",
       "3      1    14.37        1.95  2.50               16.8        113   \n",
       "4      1    13.24        2.59  2.87               21.0        118   \n",
       "\n",
       "   Total phenols  Flavanoids  Nonflavanoid phenols  Proanthocyanins  \\\n",
       "0           2.80        3.06                  0.28             2.29   \n",
       "1           2.65        2.76                  0.26             1.28   \n",
       "2           2.80        3.24                  0.30             2.81   \n",
       "3           3.85        3.49                  0.24             2.18   \n",
       "4           2.80        2.69                  0.39             1.82   \n",
       "\n",
       "   Color intensity   Hue  OD280/OD315 of diluted wines  Proline   \n",
       "0             5.64  1.04                          3.92      1065  \n",
       "1             4.38  1.05                          3.40      1050  \n",
       "2             5.68  1.03                          3.17      1185  \n",
       "3             7.80  0.86                          3.45      1480  \n",
       "4             4.32  1.04                          2.93       735  "
      ]
     },
     "execution_count": 181,
     "metadata": {},
     "output_type": "execute_result"
    }
   ],
   "source": [
    "# 라이브러리 불러오기\n",
    "import pandas as pd\n",
    "\n",
    "# 데이터 불러오기\n",
    "wine = pd.read_csv(r'part2/1유형/Wine dataset.csv')\n",
    "\n",
    "# 데이터 확인\n",
    "wine.head()"
   ]
  },
  {
   "cell_type": "code",
   "execution_count": 189,
   "id": "a29603df-638f-4891-9555-990644954c21",
   "metadata": {},
   "outputs": [
    {
     "data": {
      "text/plain": [
       "(19, 3)"
      ]
     },
     "execution_count": 189,
     "metadata": {},
     "output_type": "execute_result"
    }
   ],
   "source": [
    "# Alcalinity of ash 의 평균과 표준편차를 정수로 구하기\n",
    "alcalinity_mean = int( wine['Alcalinity of ash'].mean() )\n",
    "alcalinity_std = int( wine['Alcalinity of ash'].std() )\n",
    "\n",
    "#출력\n",
    "alcalinity_mean , alcalinity_std"
   ]
  },
  {
   "cell_type": "markdown",
   "id": "ccddbc4b-7432-4fb1-851a-7470f1f24b9c",
   "metadata": {},
   "source": [
    "2. Flavanoids 변수 상위 5개의 color intensity와 alcohol을 데이터 프레임 형태로 나타내라"
   ]
  },
  {
   "cell_type": "code",
   "execution_count": 194,
   "id": "c854c3c8-4459-43ec-ab8a-c03c09aa8ffe",
   "metadata": {},
   "outputs": [
    {
     "data": {
      "text/html": [
       "<div>\n",
       "<style scoped>\n",
       "    .dataframe tbody tr th:only-of-type {\n",
       "        vertical-align: middle;\n",
       "    }\n",
       "\n",
       "    .dataframe tbody tr th {\n",
       "        vertical-align: top;\n",
       "    }\n",
       "\n",
       "    .dataframe thead th {\n",
       "        text-align: right;\n",
       "    }\n",
       "</style>\n",
       "<table border=\"1\" class=\"dataframe\">\n",
       "  <thead>\n",
       "    <tr style=\"text-align: right;\">\n",
       "      <th></th>\n",
       "      <th>Color intensity</th>\n",
       "      <th>Alcohol</th>\n",
       "    </tr>\n",
       "  </thead>\n",
       "  <tbody>\n",
       "    <tr>\n",
       "      <th>121</th>\n",
       "      <td>6.00</td>\n",
       "      <td>11.56</td>\n",
       "    </tr>\n",
       "    <tr>\n",
       "      <th>18</th>\n",
       "      <td>8.70</td>\n",
       "      <td>14.19</td>\n",
       "    </tr>\n",
       "    <tr>\n",
       "      <th>98</th>\n",
       "      <td>4.50</td>\n",
       "      <td>12.37</td>\n",
       "    </tr>\n",
       "    <tr>\n",
       "      <th>52</th>\n",
       "      <td>7.05</td>\n",
       "      <td>13.82</td>\n",
       "    </tr>\n",
       "    <tr>\n",
       "      <th>13</th>\n",
       "      <td>5.40</td>\n",
       "      <td>14.75</td>\n",
       "    </tr>\n",
       "  </tbody>\n",
       "</table>\n",
       "</div>"
      ],
      "text/plain": [
       "     Color intensity  Alcohol\n",
       "121             6.00    11.56\n",
       "18              8.70    14.19\n",
       "98              4.50    12.37\n",
       "52              7.05    13.82\n",
       "13              5.40    14.75"
      ]
     },
     "execution_count": 194,
     "metadata": {},
     "output_type": "execute_result"
    }
   ],
   "source": [
    "wine.sort_values(by='Flavanoids', ascending= False)[['Color intensity','Alcohol']].head()"
   ]
  },
  {
   "cell_type": "markdown",
   "id": "3050e383-2483-4101-aa18-825bd4a1a74c",
   "metadata": {},
   "source": [
    "3. alcohol이 14도 이상인 것은 높은 도수로 분류한다. 높은 도수의 와인들의 color intensity의 평균값을 정수형태로 구하고,  \n",
    " 낮은 도수들의 color intensity 평균값의 차를 소수 둘째자리 까지 구하라"
   ]
  },
  {
   "cell_type": "code",
   "execution_count": 213,
   "id": "8aa2b7cc-1e00-4f9f-a895-602b195a39d1",
   "metadata": {},
   "outputs": [
    {
     "data": {
      "text/plain": [
       "Color intensity    1.15\n",
       "dtype: float64"
      ]
     },
     "execution_count": 213,
     "metadata": {},
     "output_type": "execute_result"
    }
   ],
   "source": [
    "# 도수 높은것의 color intensity 평균을 정수로 구하기\n",
    "alcohol_high = int ( wine.loc[wine['Alcohol']>= 14,['Color intensity']].mean().iloc[0] )\n",
    "\n",
    "# 낮은 도수의 color intensity 평균 구하기\n",
    "alcohol_low = wine.loc[wine['Alcohol'] < 14,['Color intensity']].mean()\n",
    "\n",
    "# 평균값 차이를 소수 둘째까지 구하기\n",
    "(alcohol_high - alcohol_low).round(2)"
   ]
  },
  {
   "cell_type": "markdown",
   "id": "91c16f58-f164-46e3-9786-5a035f9f4b16",
   "metadata": {},
   "source": [
    "4. class가 3인 와인들과 1인 와인들의 flavanoids 차이를 정수 형태로 구하라"
   ]
  },
  {
   "cell_type": "code",
   "execution_count": 218,
   "id": "2890effa-0aa9-4c14-929f-c52604702b1c",
   "metadata": {},
   "outputs": [
    {
     "data": {
      "text/html": [
       "<div>\n",
       "<style scoped>\n",
       "    .dataframe tbody tr th:only-of-type {\n",
       "        vertical-align: middle;\n",
       "    }\n",
       "\n",
       "    .dataframe tbody tr th {\n",
       "        vertical-align: top;\n",
       "    }\n",
       "\n",
       "    .dataframe thead th {\n",
       "        text-align: right;\n",
       "    }\n",
       "</style>\n",
       "<table border=\"1\" class=\"dataframe\">\n",
       "  <thead>\n",
       "    <tr style=\"text-align: right;\">\n",
       "      <th></th>\n",
       "      <th>class</th>\n",
       "      <th>Flavanoids</th>\n",
       "    </tr>\n",
       "  </thead>\n",
       "  <tbody>\n",
       "    <tr>\n",
       "      <th>0</th>\n",
       "      <td>1</td>\n",
       "      <td>2.982373</td>\n",
       "    </tr>\n",
       "    <tr>\n",
       "      <th>1</th>\n",
       "      <td>2</td>\n",
       "      <td>2.080845</td>\n",
       "    </tr>\n",
       "    <tr>\n",
       "      <th>2</th>\n",
       "      <td>3</td>\n",
       "      <td>0.781458</td>\n",
       "    </tr>\n",
       "  </tbody>\n",
       "</table>\n",
       "</div>"
      ],
      "text/plain": [
       "   class  Flavanoids\n",
       "0      1    2.982373\n",
       "1      2    2.080845\n",
       "2      3    0.781458"
      ]
     },
     "execution_count": 218,
     "metadata": {},
     "output_type": "execute_result"
    }
   ],
   "source": [
    "# class를 그룹화로 flavanoids 평균을 구함\n",
    "wine_class = wine.groupby(by='class', as_index = False)['Flavanoids'].mean()\n",
    "\n",
    "# 그룹화 확인\n",
    "wine_class"
   ]
  },
  {
   "cell_type": "code",
   "execution_count": 220,
   "id": "b9166e0f-b386-4212-b01f-fe99320e5ab7",
   "metadata": {},
   "outputs": [
    {
     "data": {
      "text/plain": [
       "-2"
      ]
     },
     "execution_count": 220,
     "metadata": {},
     "output_type": "execute_result"
    }
   ],
   "source": [
    "# 클래스 3과 1의 차이를 정수로 표현하기\n",
    "int( wine_class['Flavanoids'][2] - wine_class['Flavanoids'][0] )"
   ]
  },
  {
   "cell_type": "markdown",
   "id": "3e395bbb-aebb-4f02-ab9f-ca2e950c939b",
   "metadata": {},
   "source": [
    "5. class 가 3인 그룹에서 Flavanoids 와 상관계수가 가장 높은 2개의 컬럼과 그 상관계수를 출력하라"
   ]
  },
  {
   "cell_type": "code",
   "execution_count": 235,
   "id": "11b0627a-608e-424b-b35a-3e93a42bcfad",
   "metadata": {},
   "outputs": [
    {
     "data": {
      "text/plain": [
       "Nonflavanoid phenols    0.634479\n",
       "Magnesium               0.568779\n",
       "Name: Flavanoids, dtype: float64"
      ]
     },
     "execution_count": 235,
     "metadata": {},
     "output_type": "execute_result"
    }
   ],
   "source": [
    "# 클래스가 3인 데이터를 일단 뽑아내기.\n",
    "class_3 = wine[wine['class']== 3]\n",
    "\n",
    "# Flavanoids 와의 상관계수를 정렬하고, 상위 2개를 뽑아내기\n",
    "class_3.corr()['Flavanoids'].abs().sort_values(ascending=False)[1:3]"
   ]
  },
  {
   "cell_type": "markdown",
   "id": "38dc1d56-2553-4b30-8294-86bbf415ae6c",
   "metadata": {},
   "source": [
    "# 예제4"
   ]
  },
  {
   "cell_type": "markdown",
   "id": "16f9038c-fefb-4336-9233-f0560840c56e",
   "metadata": {},
   "source": [
    "1. defense  방어력이 상위 10개인 포켓몬의 이름, 공격력으로 정렬된 데이터 프레임을 출력하라"
   ]
  },
  {
   "cell_type": "code",
   "execution_count": 242,
   "id": "7d7e53f7-b12d-443f-8b75-7054863d90c6",
   "metadata": {},
   "outputs": [
    {
     "data": {
      "text/html": [
       "<div>\n",
       "<style scoped>\n",
       "    .dataframe tbody tr th:only-of-type {\n",
       "        vertical-align: middle;\n",
       "    }\n",
       "\n",
       "    .dataframe tbody tr th {\n",
       "        vertical-align: top;\n",
       "    }\n",
       "\n",
       "    .dataframe thead th {\n",
       "        text-align: right;\n",
       "    }\n",
       "</style>\n",
       "<table border=\"1\" class=\"dataframe\">\n",
       "  <thead>\n",
       "    <tr style=\"text-align: right;\">\n",
       "      <th></th>\n",
       "      <th>#</th>\n",
       "      <th>Name</th>\n",
       "      <th>Type 1</th>\n",
       "      <th>Type 2</th>\n",
       "      <th>Total</th>\n",
       "      <th>HP</th>\n",
       "      <th>Attack</th>\n",
       "      <th>Defense</th>\n",
       "      <th>Sp. Atk</th>\n",
       "      <th>Sp. Def</th>\n",
       "      <th>Speed</th>\n",
       "      <th>Generation</th>\n",
       "      <th>Legendary</th>\n",
       "    </tr>\n",
       "  </thead>\n",
       "  <tbody>\n",
       "    <tr>\n",
       "      <th>0</th>\n",
       "      <td>1</td>\n",
       "      <td>Bulbasaur</td>\n",
       "      <td>Grass</td>\n",
       "      <td>Poison</td>\n",
       "      <td>318</td>\n",
       "      <td>45</td>\n",
       "      <td>49</td>\n",
       "      <td>49</td>\n",
       "      <td>65</td>\n",
       "      <td>65</td>\n",
       "      <td>45</td>\n",
       "      <td>1</td>\n",
       "      <td>False</td>\n",
       "    </tr>\n",
       "    <tr>\n",
       "      <th>1</th>\n",
       "      <td>2</td>\n",
       "      <td>Ivysaur</td>\n",
       "      <td>Grass</td>\n",
       "      <td>Poison</td>\n",
       "      <td>405</td>\n",
       "      <td>60</td>\n",
       "      <td>62</td>\n",
       "      <td>63</td>\n",
       "      <td>80</td>\n",
       "      <td>80</td>\n",
       "      <td>60</td>\n",
       "      <td>1</td>\n",
       "      <td>False</td>\n",
       "    </tr>\n",
       "    <tr>\n",
       "      <th>2</th>\n",
       "      <td>3</td>\n",
       "      <td>Venusaur</td>\n",
       "      <td>Grass</td>\n",
       "      <td>Poison</td>\n",
       "      <td>525</td>\n",
       "      <td>80</td>\n",
       "      <td>82</td>\n",
       "      <td>83</td>\n",
       "      <td>100</td>\n",
       "      <td>100</td>\n",
       "      <td>80</td>\n",
       "      <td>1</td>\n",
       "      <td>False</td>\n",
       "    </tr>\n",
       "    <tr>\n",
       "      <th>3</th>\n",
       "      <td>3</td>\n",
       "      <td>VenusaurMega Venusaur</td>\n",
       "      <td>Grass</td>\n",
       "      <td>Poison</td>\n",
       "      <td>625</td>\n",
       "      <td>80</td>\n",
       "      <td>100</td>\n",
       "      <td>123</td>\n",
       "      <td>122</td>\n",
       "      <td>120</td>\n",
       "      <td>80</td>\n",
       "      <td>1</td>\n",
       "      <td>False</td>\n",
       "    </tr>\n",
       "    <tr>\n",
       "      <th>4</th>\n",
       "      <td>4</td>\n",
       "      <td>Charmander</td>\n",
       "      <td>Fire</td>\n",
       "      <td>NaN</td>\n",
       "      <td>309</td>\n",
       "      <td>39</td>\n",
       "      <td>52</td>\n",
       "      <td>43</td>\n",
       "      <td>60</td>\n",
       "      <td>50</td>\n",
       "      <td>65</td>\n",
       "      <td>1</td>\n",
       "      <td>False</td>\n",
       "    </tr>\n",
       "  </tbody>\n",
       "</table>\n",
       "</div>"
      ],
      "text/plain": [
       "   #                   Name Type 1  Type 2  Total  HP  Attack  Defense  \\\n",
       "0  1              Bulbasaur  Grass  Poison    318  45      49       49   \n",
       "1  2                Ivysaur  Grass  Poison    405  60      62       63   \n",
       "2  3               Venusaur  Grass  Poison    525  80      82       83   \n",
       "3  3  VenusaurMega Venusaur  Grass  Poison    625  80     100      123   \n",
       "4  4             Charmander   Fire     NaN    309  39      52       43   \n",
       "\n",
       "   Sp. Atk  Sp. Def  Speed  Generation  Legendary  \n",
       "0       65       65     45           1      False  \n",
       "1       80       80     60           1      False  \n",
       "2      100      100     80           1      False  \n",
       "3      122      120     80           1      False  \n",
       "4       60       50     65           1      False  "
      ]
     },
     "execution_count": 242,
     "metadata": {},
     "output_type": "execute_result"
    }
   ],
   "source": [
    "# 라이브러리 불러오기\n",
    "import pandas as pd\n",
    "\n",
    "# 데이터 불러오기\n",
    "pokemon = pd.read_csv(r'part2/1유형/Pokemon.csv')\n",
    "\n",
    "# 데이터 확인\n",
    "pokemon.head()"
   ]
  },
  {
   "cell_type": "code",
   "execution_count": 244,
   "id": "f7dc0995-72e9-4c86-ba08-cf15c344c487",
   "metadata": {},
   "outputs": [
    {
     "data": {
      "text/html": [
       "<div>\n",
       "<style scoped>\n",
       "    .dataframe tbody tr th:only-of-type {\n",
       "        vertical-align: middle;\n",
       "    }\n",
       "\n",
       "    .dataframe tbody tr th {\n",
       "        vertical-align: top;\n",
       "    }\n",
       "\n",
       "    .dataframe thead th {\n",
       "        text-align: right;\n",
       "    }\n",
       "</style>\n",
       "<table border=\"1\" class=\"dataframe\">\n",
       "  <thead>\n",
       "    <tr style=\"text-align: right;\">\n",
       "      <th></th>\n",
       "      <th>Name</th>\n",
       "      <th>Attack</th>\n",
       "    </tr>\n",
       "  </thead>\n",
       "  <tbody>\n",
       "    <tr>\n",
       "      <th>230</th>\n",
       "      <td>Shuckle</td>\n",
       "      <td>10</td>\n",
       "    </tr>\n",
       "    <tr>\n",
       "      <th>224</th>\n",
       "      <td>SteelixMega Steelix</td>\n",
       "      <td>125</td>\n",
       "    </tr>\n",
       "    <tr>\n",
       "      <th>333</th>\n",
       "      <td>AggronMega Aggron</td>\n",
       "      <td>140</td>\n",
       "    </tr>\n",
       "    <tr>\n",
       "      <th>223</th>\n",
       "      <td>Steelix</td>\n",
       "      <td>85</td>\n",
       "    </tr>\n",
       "    <tr>\n",
       "      <th>414</th>\n",
       "      <td>Regirock</td>\n",
       "      <td>100</td>\n",
       "    </tr>\n",
       "    <tr>\n",
       "      <th>789</th>\n",
       "      <td>Avalugg</td>\n",
       "      <td>117</td>\n",
       "    </tr>\n",
       "    <tr>\n",
       "      <th>98</th>\n",
       "      <td>Cloyster</td>\n",
       "      <td>95</td>\n",
       "    </tr>\n",
       "    <tr>\n",
       "      <th>87</th>\n",
       "      <td>SlowbroMega Slowbro</td>\n",
       "      <td>75</td>\n",
       "    </tr>\n",
       "    <tr>\n",
       "      <th>332</th>\n",
       "      <td>Aggron</td>\n",
       "      <td>110</td>\n",
       "    </tr>\n",
       "    <tr>\n",
       "      <th>456</th>\n",
       "      <td>Bastiodon</td>\n",
       "      <td>52</td>\n",
       "    </tr>\n",
       "  </tbody>\n",
       "</table>\n",
       "</div>"
      ],
      "text/plain": [
       "                    Name  Attack\n",
       "230              Shuckle      10\n",
       "224  SteelixMega Steelix     125\n",
       "333    AggronMega Aggron     140\n",
       "223              Steelix      85\n",
       "414             Regirock     100\n",
       "789              Avalugg     117\n",
       "98              Cloyster      95\n",
       "87   SlowbroMega Slowbro      75\n",
       "332               Aggron     110\n",
       "456            Bastiodon      52"
      ]
     },
     "execution_count": 244,
     "metadata": {},
     "output_type": "execute_result"
    }
   ],
   "source": [
    "# 방어력 기준으로 정렬하고, 거기서 상위 10개의 이름과 공격력의 데이터 프레임 추출\n",
    "pokemon.sort_values(by='Defense',ascending = False)[['Name','Attack']][:10]"
   ]
  },
  {
   "cell_type": "markdown",
   "id": "e0e8e749-b292-4d02-bb92-5eb69c71a1ac",
   "metadata": {},
   "source": [
    "2. type1이 grass인 포켓몬들의 hp 평균을 구하고, type1이 rock인 포켓몬 hp평균과의 차를 정수형태로 구하라"
   ]
  },
  {
   "cell_type": "code",
   "execution_count": 249,
   "id": "491cf6c8-3a88-4aef-a8cc-08885fe75866",
   "metadata": {},
   "outputs": [
    {
     "data": {
      "text/html": [
       "<div>\n",
       "<style scoped>\n",
       "    .dataframe tbody tr th:only-of-type {\n",
       "        vertical-align: middle;\n",
       "    }\n",
       "\n",
       "    .dataframe tbody tr th {\n",
       "        vertical-align: top;\n",
       "    }\n",
       "\n",
       "    .dataframe thead th {\n",
       "        text-align: right;\n",
       "    }\n",
       "</style>\n",
       "<table border=\"1\" class=\"dataframe\">\n",
       "  <thead>\n",
       "    <tr style=\"text-align: right;\">\n",
       "      <th></th>\n",
       "      <th>Type 1</th>\n",
       "      <th>HP</th>\n",
       "    </tr>\n",
       "  </thead>\n",
       "  <tbody>\n",
       "    <tr>\n",
       "      <th>0</th>\n",
       "      <td>Bug</td>\n",
       "      <td>56.884058</td>\n",
       "    </tr>\n",
       "    <tr>\n",
       "      <th>1</th>\n",
       "      <td>Dark</td>\n",
       "      <td>66.806452</td>\n",
       "    </tr>\n",
       "    <tr>\n",
       "      <th>2</th>\n",
       "      <td>Dragon</td>\n",
       "      <td>83.312500</td>\n",
       "    </tr>\n",
       "    <tr>\n",
       "      <th>3</th>\n",
       "      <td>Electric</td>\n",
       "      <td>59.795455</td>\n",
       "    </tr>\n",
       "    <tr>\n",
       "      <th>4</th>\n",
       "      <td>Fairy</td>\n",
       "      <td>74.117647</td>\n",
       "    </tr>\n",
       "    <tr>\n",
       "      <th>5</th>\n",
       "      <td>Fighting</td>\n",
       "      <td>69.851852</td>\n",
       "    </tr>\n",
       "    <tr>\n",
       "      <th>6</th>\n",
       "      <td>Fire</td>\n",
       "      <td>69.903846</td>\n",
       "    </tr>\n",
       "    <tr>\n",
       "      <th>7</th>\n",
       "      <td>Flying</td>\n",
       "      <td>70.750000</td>\n",
       "    </tr>\n",
       "    <tr>\n",
       "      <th>8</th>\n",
       "      <td>Ghost</td>\n",
       "      <td>64.437500</td>\n",
       "    </tr>\n",
       "    <tr>\n",
       "      <th>9</th>\n",
       "      <td>Grass</td>\n",
       "      <td>67.271429</td>\n",
       "    </tr>\n",
       "    <tr>\n",
       "      <th>10</th>\n",
       "      <td>Ground</td>\n",
       "      <td>73.781250</td>\n",
       "    </tr>\n",
       "    <tr>\n",
       "      <th>11</th>\n",
       "      <td>Ice</td>\n",
       "      <td>72.000000</td>\n",
       "    </tr>\n",
       "    <tr>\n",
       "      <th>12</th>\n",
       "      <td>Normal</td>\n",
       "      <td>77.275510</td>\n",
       "    </tr>\n",
       "    <tr>\n",
       "      <th>13</th>\n",
       "      <td>Poison</td>\n",
       "      <td>67.250000</td>\n",
       "    </tr>\n",
       "    <tr>\n",
       "      <th>14</th>\n",
       "      <td>Psychic</td>\n",
       "      <td>70.631579</td>\n",
       "    </tr>\n",
       "    <tr>\n",
       "      <th>15</th>\n",
       "      <td>Rock</td>\n",
       "      <td>65.363636</td>\n",
       "    </tr>\n",
       "    <tr>\n",
       "      <th>16</th>\n",
       "      <td>Steel</td>\n",
       "      <td>65.222222</td>\n",
       "    </tr>\n",
       "    <tr>\n",
       "      <th>17</th>\n",
       "      <td>Water</td>\n",
       "      <td>72.062500</td>\n",
       "    </tr>\n",
       "  </tbody>\n",
       "</table>\n",
       "</div>"
      ],
      "text/plain": [
       "      Type 1         HP\n",
       "0        Bug  56.884058\n",
       "1       Dark  66.806452\n",
       "2     Dragon  83.312500\n",
       "3   Electric  59.795455\n",
       "4      Fairy  74.117647\n",
       "5   Fighting  69.851852\n",
       "6       Fire  69.903846\n",
       "7     Flying  70.750000\n",
       "8      Ghost  64.437500\n",
       "9      Grass  67.271429\n",
       "10    Ground  73.781250\n",
       "11       Ice  72.000000\n",
       "12    Normal  77.275510\n",
       "13    Poison  67.250000\n",
       "14   Psychic  70.631579\n",
       "15      Rock  65.363636\n",
       "16     Steel  65.222222\n",
       "17     Water  72.062500"
      ]
     },
     "execution_count": 249,
     "metadata": {},
     "output_type": "execute_result"
    }
   ],
   "source": [
    "# type1과 hp를 기준으로 그룹화 해주기.\n",
    "type1 = pokemon.groupby(by='Type 1',as_index= False)['HP'].mean()\n",
    "\n",
    "# 확인\n",
    "type1"
   ]
  },
  {
   "cell_type": "code",
   "execution_count": 273,
   "id": "1ef8d595-fcc2-448f-a83f-849d6ee907b0",
   "metadata": {},
   "outputs": [
    {
     "data": {
      "text/plain": [
       "1"
      ]
     },
     "execution_count": 273,
     "metadata": {},
     "output_type": "execute_result"
    }
   ],
   "source": [
    "# 풀과 바위 속성의 hp차이를 정수로 표현\n",
    "different =int( type1[type1['Type 1']== 'Grass']['HP'].iloc[0] - type1[type1['Type 1']== 'Rock']['HP'].iloc[0] )\n",
    "\n",
    "# 차이를 구하기\n",
    "different"
   ]
  },
  {
   "cell_type": "markdown",
   "id": "8ccd2304-4fad-4f3d-a457-ae130a5fc5de",
   "metadata": {},
   "source": [
    "3. legendary = True 인 경우의 total 값이 평균이상인 데이터를 추출하라.  \n",
    "   추출된 데이터를 total 값이 작은 순서대로 정렬하고, 1부터 100까지 포켓몬의 speed의 평균을 소수 둘째까지 구하라"
   ]
  },
  {
   "cell_type": "code",
   "execution_count": 277,
   "id": "9a3b5baa-c870-49c0-aa1e-478e8570e246",
   "metadata": {},
   "outputs": [
    {
     "data": {
      "text/plain": [
       "#               0\n",
       "Name            0\n",
       "Type 1          0\n",
       "Type 2        386\n",
       "Total           0\n",
       "HP              0\n",
       "Attack          0\n",
       "Defense         0\n",
       "Sp. Atk         0\n",
       "Sp. Def         0\n",
       "Speed           0\n",
       "Generation      0\n",
       "Legendary       0\n",
       "dtype: int64"
      ]
     },
     "execution_count": 277,
     "metadata": {},
     "output_type": "execute_result"
    }
   ],
   "source": [
    "# 결측치가 있는지 확인\n",
    "pokemon.isna().sum()"
   ]
  },
  {
   "cell_type": "code",
   "execution_count": 299,
   "id": "c774533c-7419-45b0-b3ad-a3421e80f396",
   "metadata": {},
   "outputs": [
    {
     "data": {
      "text/plain": [
       "101.18"
      ]
     },
     "execution_count": 299,
     "metadata": {},
     "output_type": "execute_result"
    }
   ],
   "source": [
    "# legendary = True, total이 평균이상인 조건의 값을 뽑아내기\n",
    "legend = pokemon[pokemon['Legendary']== True]\n",
    "legend = legend[legend['Total'] >= legend['Total'].mean()]\n",
    "\n",
    "# total이 작은 순서대로 상위 100개의 speed 평균을 구하라.\n",
    "temp = legend.sort_values(by='Total')[:100]\n",
    "result = temp['Speed'].mean().round(2)\n",
    "result\n"
   ]
  },
  {
   "cell_type": "markdown",
   "id": "d5e2ebbc-4dcf-4e4f-8e7a-563a1f9da6f6",
   "metadata": {},
   "source": [
    "4. generation 과 상관이 가장 큰 변수를 구하려고 한다.  \n",
    "hp,attack, defense,speed 중에서 상관계수의 절댓값이 가장 큰 두 변수와 그 값을 구하라."
   ]
  },
  {
   "cell_type": "code",
   "execution_count": 327,
   "id": "f2d8f983-6335-43a8-9719-7914ec7f0e35",
   "metadata": {},
   "outputs": [
    {
     "data": {
      "text/plain": [
       "HP        0.058683\n",
       "Attack    0.051451\n",
       "Name: Generation, dtype: float64"
      ]
     },
     "execution_count": 327,
     "metadata": {},
     "output_type": "execute_result"
    }
   ],
   "source": [
    "# generation의 상관계수 구하기\n",
    "g_corr = pokemon.corr(numeric_only= True)['Generation'].abs()\n",
    "\n",
    "# 지명된 변수를 뽑아내고, 그 값을 정렬해서 상위 2개 뽑아내기\n",
    "g_corr[['HP','Attack','Defense','Speed']].sort_values(ascending=False)[:2]"
   ]
  },
  {
   "cell_type": "markdown",
   "id": "4407ced2-be17-4299-b1af-e2e43099005b",
   "metadata": {},
   "source": [
    "5. type1 이 fire인 경우 attack 하위 25% 값들의 평균을 구하시오."
   ]
  },
  {
   "cell_type": "code",
   "execution_count": 364,
   "id": "e82d4998-6dcf-4cf8-a0cd-83418513927f",
   "metadata": {},
   "outputs": [
    {
     "data": {
      "text/plain": [
       "Attack    50.0\n",
       "dtype: float64"
      ]
     },
     "execution_count": 364,
     "metadata": {},
     "output_type": "execute_result"
    }
   ],
   "source": [
    "# type1에서 fire에 해당하는 attack값들을 추출하기\n",
    "fire_attack = pokemon.loc[pokemon['Type 1'] == 'Fire',['Attack']]\n",
    "\n",
    "# 하위 25프로 해당하는 값 계산\n",
    "attack_25 = fire_attack['Attack'].describe()['25%']\n",
    "\n",
    "# 25% 값들의 평균을 구하기\n",
    "fire_attack[fire_attack['Attack'] <= attack_25].mean()"
   ]
  },
  {
   "cell_type": "markdown",
   "id": "6b1d2d44-b042-46e7-a7d0-8ae2abe6da0d",
   "metadata": {},
   "source": [
    "6. total이 600이고 속성이 rock인 포켓몬의 수를 구하라"
   ]
  },
  {
   "cell_type": "code",
   "execution_count": 381,
   "id": "e1f50098-3a24-4164-bce9-871aa2e41815",
   "metadata": {},
   "outputs": [
    {
     "data": {
      "text/plain": [
       "2"
      ]
     },
     "execution_count": 381,
     "metadata": {},
     "output_type": "execute_result"
    }
   ],
   "source": [
    "len ( pokemon.loc[(pokemon['Total']== 600) & (pokemon['Type 1'] == 'Rock')] )"
   ]
  },
  {
   "cell_type": "code",
   "execution_count": 396,
   "id": "d62b732a-f7b1-4ebc-9905-b010a2d319c2",
   "metadata": {},
   "outputs": [
    {
     "data": {
      "text/plain": [
       "#             2\n",
       "Name          2\n",
       "Type 1        2\n",
       "Type 2        2\n",
       "Total         2\n",
       "HP            2\n",
       "Attack        2\n",
       "Defense       2\n",
       "Sp. Atk       2\n",
       "Sp. Def       2\n",
       "Speed         2\n",
       "Generation    2\n",
       "Legendary     2\n",
       "dtype: int64"
      ]
     },
     "execution_count": 396,
     "metadata": {},
     "output_type": "execute_result"
    }
   ],
   "source": [
    "pokemon.loc[(pokemon['Total']== 600) & (pokemon['Type 1'] == 'Rock')].count()"
   ]
  },
  {
   "cell_type": "code",
   "execution_count": null,
   "id": "0bf5e4af-1b06-478e-9b04-e24efacb1df1",
   "metadata": {},
   "outputs": [],
   "source": []
  }
 ],
 "metadata": {
  "kernelspec": {
   "display_name": "Python 3 (ipykernel)",
   "language": "python",
   "name": "python3"
  },
  "language_info": {
   "codemirror_mode": {
    "name": "ipython",
    "version": 3
   },
   "file_extension": ".py",
   "mimetype": "text/x-python",
   "name": "python",
   "nbconvert_exporter": "python",
   "pygments_lexer": "ipython3",
   "version": "3.12.4"
  }
 },
 "nbformat": 4,
 "nbformat_minor": 5
}
